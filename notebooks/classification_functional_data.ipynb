{
 "cells": [
  {
   "cell_type": "code",
   "execution_count": 8,
   "metadata": {},
   "outputs": [],
   "source": [
    "from ase.io import read\n",
    "from crystals import Crystal\n",
    "from skued import powdersim\n",
    "import os\n",
    "from skfda import FDataGrid\n",
    "import numpy as np\n",
    "import pandas as pd\n",
    "import matplotlib.pyplot as plt \n",
    "\n",
    "from sklearn.model_selection import (train_test_split, GridSearchCV)\n",
    "from sklearn.model_selection import StratifiedShuffleSplit\n",
    "from skfda.ml.classification import KNeighborsClassifier\n",
    "import skfda.preprocessing.smoothing.kernel_smoothers as ks\n",
    "import skfda.preprocessing.smoothing.validation as val\n",
    "from sklearn.model_selection import cross_val_score"
   ]
  },
  {
   "cell_type": "code",
   "execution_count": 9,
   "metadata": {},
   "outputs": [],
   "source": [
    "def load_datagrid_sim(folder, arr, x):\n",
    "    '''\n",
    "    Load cif files from folder into ase crystal objects, simulate crystal\n",
    "    diffraction and represent data in timeseries\n",
    "    Args:\n",
    "        folder (string): Where we load the data from.\n",
    "        arr (list): List of cif filenames in folder.\n",
    "        x (nparray): representation of 1/angström for powder simulation.\n",
    "\n",
    "    Returns:\n",
    "        fd (datagrid): representation of intensity values and 1/angström\n",
    "        values in datagrid object.\n",
    "\n",
    "    '''\n",
    "    filename_arr = []\n",
    "    crys_arr = []\n",
    "    for file in arr:\n",
    "        filename = os.sep.join([folder, file])\n",
    "        filename_arr.append(file)\n",
    "        crys = read(filename)\n",
    "        crys = Crystal.from_ase(crys)\n",
    "        \n",
    "        diff = powdersim(crys, x, fwhm_l=50)\n",
    "        diff_norm = diff / diff.max()\n",
    "        crys_arr.append(diff_norm)\n",
    "        \n",
    "    crys_arr = np.array(crys_arr)\n",
    "    fd = FDataGrid(crys_arr, x,\n",
    "                   dataset_name='Diffraction Curves',\n",
    "                   argument_names=[r'$q (1/\\AA)$'],\n",
    "                   coordinate_names=['Diffracted intensity (A.u.)'])\n",
    "    print(fd)\n",
    "    \n",
    "    return fd"
   ]
  },
  {
   "cell_type": "code",
   "execution_count": 10,
   "metadata": {},
   "outputs": [],
   "source": [
    "def smooth_datagrid(fd):\n",
    "    '''\n",
    "    Smoothes the values in the datagrid object\n",
    "\n",
    "    Args:\n",
    "        fd (datagrid): Includes data_matrix, x vector for contionous data\n",
    "        representation.\n",
    "\n",
    "    Returns:\n",
    "        knn_fd (datagrid): datagrid values smoothed with an kN Kernel.\n",
    "\n",
    "    '''\n",
    "    # smooth the values with kNeighbors kernel\n",
    "    param_values = np.linspace(start=2, stop=25, num=24)\n",
    "    knn = val.SmoothingParameterSearch(ks.KNeighborsSmoother(), param_values)\n",
    "    knn.fit(fd)\n",
    "    knn_fd = knn.transform(fd)\n",
    "    \n",
    "    return knn_fd\n"
   ]
  },
  {
   "cell_type": "code",
   "execution_count": 11,
   "metadata": {},
   "outputs": [],
   "source": [
    "folder = r\"C:\\Python\\Projects\\crystal-phase-prediction\\crystal_data\\CIFs\"\n",
    "arr = [f for f in os.listdir(folder) if not f.endswith('.ini')] # ignore hidden files in folder\n",
    "x = np.linspace(1, 4, 1000)\n",
    "# change for hfo2 and zro2\n",
    "df_labels = pd.read_pickle(r'C:\\Python\\Projects\\crystal-phase-prediction\\data_labels\\labels_all.pkl')\n",
    "labels = df_labels['new_labels']"
   ]
  },
  {
   "cell_type": "code",
   "execution_count": null,
   "metadata": {},
   "outputs": [],
   "source": [
    "fd = load_datagrid_sim(folder, arr, x)"
   ]
  },
  {
   "cell_type": "code",
   "execution_count": null,
   "metadata": {},
   "outputs": [],
   "source": [
    "fd_knn = smooth_datagrid(fd)"
   ]
  },
  {
   "cell_type": "code",
   "execution_count": null,
   "metadata": {},
   "outputs": [],
   "source": [
    "# gridsearch for the best hyperparameter\n",
    "X_train, X_test, y_train, y_test = train_test_split(fd_knn, labels, \n",
    "                                                    test_size= 0.30,\n",
    "                                                    stratify= labels,\n",
    "                                                    random_state=0)\n",
    "\n",
    "\n",
    "param_grid = {'n_neighbors': np.arange(2, 30, 1)}\n",
    "knn = KNeighborsClassifier(metric='euclidean', multivariate_metric=True)\n",
    "ss = StratifiedShuffleSplit(n_splits=5, test_size=.25, random_state=0)\n",
    "gscv = GridSearchCV(knn, param_grid, cv=ss)\n",
    "gscv.fit(fd_knn, labels)\n",
    "\n",
    "print(\"Best params:\", gscv.best_params_)\n",
    "print(\"Best score:\", gscv.best_score_)"
   ]
  },
  {
   "cell_type": "code",
   "execution_count": null,
   "metadata": {},
   "outputs": [],
   "source": [
    "fig = plt.figure()\n",
    "ax = fig.add_subplot(1, 1, 1)\n",
    "ax.bar(param_grid['n_neighbors'], gscv.cv_results_['mean_test_score'])\n",
    "ax.set_xticks(param_grid['n_neighbors'])\n",
    "ax.set_ylabel(\"Number of Neighbors\")\n",
    "ax.set_xlabel(\"Test score\")\n",
    "ax.set_ylim((0.85, 0.93))\n",
    "plt.show()"
   ]
  },
  {
   "cell_type": "code",
   "execution_count": null,
   "metadata": {},
   "outputs": [],
   "source": [
    "knn = KNeighborsClassifier(n_neighbors=10, metric='euclidean', \n",
    "                           multivariate_metric=True)\n",
    "\n",
    "scores = cross_val_score(knn, fd_knn, labels, cv=10)\n",
    "print(scores)\n",
    "print('Accuracy: %0.2f (+- %0.2f)' %(scores.mean(), scores.std() * 2))"
   ]
  }
 ],
 "metadata": {
  "kernelspec": {
   "display_name": "Python 3",
   "language": "python",
   "name": "python3"
  },
  "language_info": {
   "codemirror_mode": {
    "name": "ipython",
    "version": 3
   },
   "file_extension": ".py",
   "mimetype": "text/x-python",
   "name": "python",
   "nbconvert_exporter": "python",
   "pygments_lexer": "ipython3",
   "version": "3.8.2"
  }
 },
 "nbformat": 4,
 "nbformat_minor": 4
}
