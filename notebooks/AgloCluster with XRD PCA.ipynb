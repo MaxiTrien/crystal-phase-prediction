{
 "cells": [
  {
   "cell_type": "code",
   "execution_count": 1,
   "metadata": {},
   "outputs": [],
   "source": [
    "%matplotlib notebook"
   ]
  },
  {
   "cell_type": "code",
   "execution_count": 2,
   "metadata": {},
   "outputs": [],
   "source": [
    "\n",
    "import pandas as pd\n",
    "import numpy as np\n",
    "from sklearn.model_selection import train_test_split\n",
    "from sklearn.decomposition import PCA\n",
    "from sklearn.preprocessing import StandardScaler\n",
    "from sklearn.cluster import KMeans\n",
    "from matminer.featurizers.structure import XRDPowderPattern\n",
    "import seaborn as sns\n",
    "import matplotlib.pyplot as plt\n"
   ]
  },
  {
   "cell_type": "code",
   "execution_count": 3,
   "metadata": {},
   "outputs": [
    {
     "data": {
      "text/html": [
       "<div>\n",
       "<style scoped>\n",
       "    .dataframe tbody tr th:only-of-type {\n",
       "        vertical-align: middle;\n",
       "    }\n",
       "\n",
       "    .dataframe tbody tr th {\n",
       "        vertical-align: top;\n",
       "    }\n",
       "\n",
       "    .dataframe thead th {\n",
       "        text-align: right;\n",
       "    }\n",
       "</style>\n",
       "<table border=\"1\" class=\"dataframe\">\n",
       "  <thead>\n",
       "    <tr style=\"text-align: right;\">\n",
       "      <th></th>\n",
       "      <th>structure</th>\n",
       "      <th>name</th>\n",
       "    </tr>\n",
       "  </thead>\n",
       "  <tbody>\n",
       "    <tr>\n",
       "      <th>0</th>\n",
       "      <td>[[1.38867986 2.3864784  4.36482979] Hf, [3.587...</td>\n",
       "      <td>Ag_HfO2_cat_3.125_222_m.cif</td>\n",
       "    </tr>\n",
       "    <tr>\n",
       "      <th>1</th>\n",
       "      <td>[[1.40181386 2.3944349  4.3885007 ] Hf, [3.606...</td>\n",
       "      <td>Ag_HfO2_cat_3.125_222_o.cif</td>\n",
       "    </tr>\n",
       "    <tr>\n",
       "      <th>2</th>\n",
       "      <td>[[-8.57055872 -7.98390112 -6.2853237 ] Hf, [-6...</td>\n",
       "      <td>Ag_HfO2_cat_3.125_222_p-o.cif</td>\n",
       "    </tr>\n",
       "    <tr>\n",
       "      <th>3</th>\n",
       "      <td>[[-8.73105937  2.58337834  3.5977214 ] Hf, [-6...</td>\n",
       "      <td>Ag_HfO2_cat_3.125_222_t.cif</td>\n",
       "    </tr>\n",
       "    <tr>\n",
       "      <th>4</th>\n",
       "      <td>[[1.37820795 2.39009891 4.37039843] Hf, [3.622...</td>\n",
       "      <td>Ag_HfO2_cat_6.25_122_m.cif</td>\n",
       "    </tr>\n",
       "    <tr>\n",
       "      <th>...</th>\n",
       "      <td>...</td>\n",
       "      <td>...</td>\n",
       "    </tr>\n",
       "    <tr>\n",
       "      <th>1720</th>\n",
       "      <td>[[ 1.26076304 -5.11876687  1.26075093] Hf, [ 1...</td>\n",
       "      <td>Zr_HfO2_inter_6.25_212_t.cif</td>\n",
       "    </tr>\n",
       "    <tr>\n",
       "      <th>1721</th>\n",
       "      <td>[[  1.2262443  -10.12402918  -3.43749088] Hf, ...</td>\n",
       "      <td>Zr_HfO2_inter_6.25_221_m.cif</td>\n",
       "    </tr>\n",
       "    <tr>\n",
       "      <th>1722</th>\n",
       "      <td>[[1.39997305 0.20795941 1.85144277] Hf, [1.451...</td>\n",
       "      <td>Zr_HfO2_inter_6.25_221_o.cif</td>\n",
       "    </tr>\n",
       "    <tr>\n",
       "      <th>1723</th>\n",
       "      <td>[[-8.97250742 -0.20890362  1.50328354] Hf, [-8...</td>\n",
       "      <td>Zr_HfO2_inter_6.25_221_p-o.cif</td>\n",
       "    </tr>\n",
       "    <tr>\n",
       "      <th>1724</th>\n",
       "      <td>[[1.26076659 9.90848891 1.27892142] Hf, [1.260...</td>\n",
       "      <td>Zr_HfO2_inter_6.25_221_t.cif</td>\n",
       "    </tr>\n",
       "  </tbody>\n",
       "</table>\n",
       "<p>1725 rows × 2 columns</p>\n",
       "</div>"
      ],
      "text/plain": [
       "                                              structure  \\\n",
       "0     [[1.38867986 2.3864784  4.36482979] Hf, [3.587...   \n",
       "1     [[1.40181386 2.3944349  4.3885007 ] Hf, [3.606...   \n",
       "2     [[-8.57055872 -7.98390112 -6.2853237 ] Hf, [-6...   \n",
       "3     [[-8.73105937  2.58337834  3.5977214 ] Hf, [-6...   \n",
       "4     [[1.37820795 2.39009891 4.37039843] Hf, [3.622...   \n",
       "...                                                 ...   \n",
       "1720  [[ 1.26076304 -5.11876687  1.26075093] Hf, [ 1...   \n",
       "1721  [[  1.2262443  -10.12402918  -3.43749088] Hf, ...   \n",
       "1722  [[1.39997305 0.20795941 1.85144277] Hf, [1.451...   \n",
       "1723  [[-8.97250742 -0.20890362  1.50328354] Hf, [-8...   \n",
       "1724  [[1.26076659 9.90848891 1.27892142] Hf, [1.260...   \n",
       "\n",
       "                                name  \n",
       "0        Ag_HfO2_cat_3.125_222_m.cif  \n",
       "1        Ag_HfO2_cat_3.125_222_o.cif  \n",
       "2      Ag_HfO2_cat_3.125_222_p-o.cif  \n",
       "3        Ag_HfO2_cat_3.125_222_t.cif  \n",
       "4         Ag_HfO2_cat_6.25_122_m.cif  \n",
       "...                              ...  \n",
       "1720    Zr_HfO2_inter_6.25_212_t.cif  \n",
       "1721    Zr_HfO2_inter_6.25_221_m.cif  \n",
       "1722    Zr_HfO2_inter_6.25_221_o.cif  \n",
       "1723  Zr_HfO2_inter_6.25_221_p-o.cif  \n",
       "1724    Zr_HfO2_inter_6.25_221_t.cif  \n",
       "\n",
       "[1725 rows x 2 columns]"
      ]
     },
     "execution_count": 3,
     "metadata": {},
     "output_type": "execute_result"
    }
   ],
   "source": [
    "df = pd.read_pickle(r'C:\\Python\\Projects\\crystal-phase-prediction\\pkl_files\\structure_df_hfo2.pkl')\n",
    "df"
   ]
  },
  {
   "cell_type": "code",
   "execution_count": null,
   "metadata": {},
   "outputs": [
    {
     "data": {
      "application/vnd.jupyter.widget-view+json": {
       "model_id": "f6889e90c1e94fbbb732ea6be0a708fa",
       "version_major": 2,
       "version_minor": 0
      },
      "text/plain": [
       "HBox(children=(FloatProgress(value=0.0, description='XRDPowderPattern', max=1725.0, style=ProgressStyle(descri…"
      ]
     },
     "metadata": {},
     "output_type": "display_data"
    }
   ],
   "source": [
    "xrd = XRDPowderPattern(two_theta_range=(5, 70))\n",
    "df = xrd.fit_featurize_dataframe(df, 'structure')\n",
    "df"
   ]
  },
  {
   "cell_type": "code",
   "execution_count": null,
   "metadata": {},
   "outputs": [],
   "source": [
    "labels_true = pd.read_pickle(r'C:\\Python\\Projects\\crystal-phase-prediction\\data_labels\\labels_hfo2.pkl')\n",
    "labels_true = labels_true.labels_0_4\n",
    "labels_true"
   ]
  },
  {
   "cell_type": "code",
   "execution_count": null,
   "metadata": {},
   "outputs": [],
   "source": [
    "# labels_true = labels_true['new_labels']\n",
    "# labels_true = labels_true.values\n",
    "# labels_true = labels_true.astype(int)"
   ]
  },
  {
   "cell_type": "code",
   "execution_count": null,
   "metadata": {},
   "outputs": [],
   "source": [
    "labels_true = labels_true.replace({'m': 0, 'p-o': 1, 'o': 2, 't': 3, 'unknown': 4})\n",
    "labels_true"
   ]
  },
  {
   "cell_type": "code",
   "execution_count": null,
   "metadata": {},
   "outputs": [],
   "source": [
    "from sklearn.utils import shuffle\n",
    "X = df.iloc[:,2:]\n",
    "# X, y_true = shuffle(X, y_true, random_state=0)\n",
    "X"
   ]
  },
  {
   "cell_type": "code",
   "execution_count": null,
   "metadata": {},
   "outputs": [],
   "source": [
    "# PCA description will go down\n",
    "from sklearn.preprocessing import MinMaxScaler\n",
    "\n",
    "scaler = MinMaxScaler()\n",
    "X = scaler.fit_transform(X)\n",
    "X"
   ]
  },
  {
   "cell_type": "code",
   "execution_count": null,
   "metadata": {},
   "outputs": [],
   "source": [
    "mPCA = PCA(n_components=50)\n",
    "PrincipleComponents = mPCA.fit_transform(X)\n",
    "variance = mPCA.explained_variance_ratio_\n",
    "variance_ratio = np.cumsum(np.round(variance, decimals=3)*100)\n",
    "variance_ratio"
   ]
  },
  {
   "cell_type": "code",
   "execution_count": null,
   "metadata": {},
   "outputs": [],
   "source": [
    "plt.title(\"PCA components VS percentage of variance explained\")\n",
    "plt.ylabel(\"Percentage (%)\")\n",
    "plt.xlabel(\"# of components\")\n",
    "plt.plot(variance_ratio)\n",
    "plt.show()"
   ]
  },
  {
   "cell_type": "code",
   "execution_count": null,
   "metadata": {},
   "outputs": [],
   "source": [
    "pca = PCA(n_components=3)\n",
    "PCA = pca.fit_transform(X)"
   ]
  },
  {
   "cell_type": "code",
   "execution_count": null,
   "metadata": {},
   "outputs": [],
   "source": [
    "dfPCA = pd.DataFrame(PCA)\n",
    "dfPCA['labels'] = labels_true\n",
    "dfPCA.columns = ['x1','x2','x3', 'labels']\n",
    "dfPCA"
   ]
  },
  {
   "cell_type": "code",
   "execution_count": null,
   "metadata": {},
   "outputs": [],
   "source": [
    "dendo = dfPCA[['x1', 'x2']]"
   ]
  },
  {
   "cell_type": "code",
   "execution_count": null,
   "metadata": {},
   "outputs": [],
   "source": [
    "import scipy.cluster.hierarchy as shc\n",
    "\n",
    "plt.figure(figsize=(5, 3.5))\n",
    "plt.title(\"Dendogram 2D PCA\")\n",
    "dend = shc.dendrogram(shc.linkage(dendo, method='ward'))"
   ]
  },
  {
   "cell_type": "code",
   "execution_count": null,
   "metadata": {},
   "outputs": [],
   "source": [
    "from sklearn.cluster import AgglomerativeClustering\n",
    "dendo = dfPCA[['x1', 'x2', 'x3']]\n",
    "cluster = AgglomerativeClustering(n_clusters=5, affinity='euclidean', linkage='ward')\n",
    "pre_labels = cluster.fit_predict(dendo)\n",
    "dfPCA['cluster'] = pre_labels"
   ]
  },
  {
   "cell_type": "code",
   "execution_count": null,
   "metadata": {},
   "outputs": [],
   "source": [
    "dfPCA2 = dfPCA[['x1', 'x2', 'cluster']]\n",
    "lm = sns.lmplot(data=dfPCA2, x='x1', y='x2',hue='cluster', fit_reg=False, legend=True, legend_out=True)\n",
    "# Access the figure\n",
    "fig = lm.fig \n",
    "fig.suptitle(\"2D PCA Predicted Clusters with 80% representation\", fontsize=10)"
   ]
  },
  {
   "cell_type": "code",
   "execution_count": null,
   "metadata": {},
   "outputs": [],
   "source": [
    "dfPCA2_true = dfPCA[['x1', 'x2', 'labels']]\n",
    "lm = sns.lmplot(data=dfPCA2_true, x='x1', y='x2',hue='labels', fit_reg=False, legend=True, legend_out=True)\n",
    "# Access the figure\n",
    "fig = lm.fig \n",
    "fig.suptitle(\"2D PCA Ground Truth with 80% representation\", fontsize=10)"
   ]
  },
  {
   "cell_type": "code",
   "execution_count": null,
   "metadata": {},
   "outputs": [],
   "source": [
    "dfPCA['labels'] = dfPCA['labels'].replace({0: 'm', 1:'p-o', 2:'o', 3: 't', 4: 'unknown'})\n",
    "dfPCA"
   ]
  },
  {
   "cell_type": "code",
   "execution_count": null,
   "metadata": {},
   "outputs": [],
   "source": [
    "import plotly.express as px\n",
    "fig = px.scatter_3d(\n",
    "    dfPCA, x='x1', y='x2', z='x3', color=dfPCA['labels'],\n",
    "    labels={'x1': 'PC 1', 'x2': 'PC 2', 'x3': 'PC 3'}, title='PCA 3D Ground Truth'\n",
    ")\n",
    "fig.show()"
   ]
  },
  {
   "cell_type": "code",
   "execution_count": null,
   "metadata": {},
   "outputs": [],
   "source": [
    "fig = px.scatter_3d(\n",
    "    dfPCA, x='x1', y='x2', z='x3', color=dfPCA['cluster'],\n",
    "    labels={'x1': 'PC 1', 'x2': 'PC 2', 'x3': 'PC 3'}, title='PCA 3D Prediction'\n",
    ")\n",
    "fig.show()"
   ]
  },
  {
   "cell_type": "code",
   "execution_count": null,
   "metadata": {},
   "outputs": [],
   "source": []
  }
 ],
 "metadata": {
  "kernelspec": {
   "display_name": "Python 3",
   "language": "python",
   "name": "python3"
  },
  "language_info": {
   "codemirror_mode": {
    "name": "ipython",
    "version": 3
   },
   "file_extension": ".py",
   "mimetype": "text/x-python",
   "name": "python",
   "nbconvert_exporter": "python",
   "pygments_lexer": "ipython3",
   "version": "3.8.2"
  }
 },
 "nbformat": 4,
 "nbformat_minor": 4
}
