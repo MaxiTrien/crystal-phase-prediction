{
 "cells": [
  {
   "cell_type": "code",
   "execution_count": 1,
   "metadata": {},
   "outputs": [],
   "source": [
    "import pandas as pd\n",
    "import numpy as np"
   ]
  },
  {
   "cell_type": "code",
   "execution_count": 2,
   "metadata": {},
   "outputs": [
    {
     "data": {
      "text/plain": [
       "array([0, 2, 1, ..., 2, 4, 3], dtype=int64)"
      ]
     },
     "execution_count": 2,
     "metadata": {},
     "output_type": "execute_result"
    }
   ],
   "source": [
    "labels_true = pd.read_pickle('./data_labels/labels_zro2.pkl')\n",
    "labels_true['labels_0_4'] = labels_true['labels_0_4'].replace({'m': 0,\n",
    "                                                        'p-o': 1,\n",
    "                                                        'o': 2,\n",
    "                                                        't': 3,\n",
    "                                                        'unknown': 4})\n",
    "\n",
    "y_true = labels_true['labels_0_4']\n",
    "y_true.values"
   ]
  },
  {
   "cell_type": "code",
   "execution_count": 3,
   "metadata": {},
   "outputs": [
    {
     "data": {
      "text/html": [
       "<div>\n",
       "<style scoped>\n",
       "    .dataframe tbody tr th:only-of-type {\n",
       "        vertical-align: middle;\n",
       "    }\n",
       "\n",
       "    .dataframe tbody tr th {\n",
       "        vertical-align: top;\n",
       "    }\n",
       "\n",
       "    .dataframe thead th {\n",
       "        text-align: right;\n",
       "    }\n",
       "</style>\n",
       "<table border=\"1\" class=\"dataframe\">\n",
       "  <thead>\n",
       "    <tr style=\"text-align: right;\">\n",
       "      <th></th>\n",
       "      <th>structure</th>\n",
       "      <th>name</th>\n",
       "      <th>Zr-Zr PRDF r=0.00-0.50</th>\n",
       "      <th>Zr-Zr PRDF r=0.50-1.00</th>\n",
       "      <th>Zr-Zr PRDF r=1.00-1.50</th>\n",
       "      <th>Zr-Zr PRDF r=1.50-2.00</th>\n",
       "      <th>Zr-Zr PRDF r=2.00-2.50</th>\n",
       "      <th>Zr-Zr PRDF r=2.50-3.00</th>\n",
       "      <th>Zr-Zr PRDF r=3.00-3.50</th>\n",
       "      <th>Zr-Zr PRDF r=3.50-4.00</th>\n",
       "      <th>...</th>\n",
       "      <th>O-O PRDF r=15.00-15.50</th>\n",
       "      <th>O-O PRDF r=15.50-16.00</th>\n",
       "      <th>O-O PRDF r=16.00-16.50</th>\n",
       "      <th>O-O PRDF r=16.50-17.00</th>\n",
       "      <th>O-O PRDF r=17.00-17.50</th>\n",
       "      <th>O-O PRDF r=17.50-18.00</th>\n",
       "      <th>O-O PRDF r=18.00-18.50</th>\n",
       "      <th>O-O PRDF r=18.50-19.00</th>\n",
       "      <th>O-O PRDF r=19.00-19.50</th>\n",
       "      <th>O-O PRDF r=19.50-20.00</th>\n",
       "    </tr>\n",
       "  </thead>\n",
       "  <tbody>\n",
       "    <tr>\n",
       "      <th>0</th>\n",
       "      <td>[[1.39842671 2.40664143 4.37446042] Zr, [3.615...</td>\n",
       "      <td>Ag_ZrO2_cat_3.125_222_m.cif</td>\n",
       "      <td>0.0</td>\n",
       "      <td>0.0</td>\n",
       "      <td>0.0</td>\n",
       "      <td>0.0</td>\n",
       "      <td>0.0</td>\n",
       "      <td>0.000000</td>\n",
       "      <td>0.088289</td>\n",
       "      <td>0.042287</td>\n",
       "      <td>...</td>\n",
       "      <td>0.061330</td>\n",
       "      <td>0.056475</td>\n",
       "      <td>0.061001</td>\n",
       "      <td>0.065090</td>\n",
       "      <td>0.051092</td>\n",
       "      <td>0.056937</td>\n",
       "      <td>0.062655</td>\n",
       "      <td>0.069416</td>\n",
       "      <td>0.043605</td>\n",
       "      <td>0.059658</td>\n",
       "    </tr>\n",
       "    <tr>\n",
       "      <th>1</th>\n",
       "      <td>[[1.41037568 2.41800359 4.39765312] Zr, [3.632...</td>\n",
       "      <td>Ag_ZrO2_cat_3.125_222_o.cif</td>\n",
       "      <td>0.0</td>\n",
       "      <td>0.0</td>\n",
       "      <td>0.0</td>\n",
       "      <td>0.0</td>\n",
       "      <td>0.0</td>\n",
       "      <td>0.000000</td>\n",
       "      <td>0.097991</td>\n",
       "      <td>0.041558</td>\n",
       "      <td>...</td>\n",
       "      <td>0.062549</td>\n",
       "      <td>0.052566</td>\n",
       "      <td>0.065333</td>\n",
       "      <td>0.062023</td>\n",
       "      <td>0.050942</td>\n",
       "      <td>0.059967</td>\n",
       "      <td>0.054636</td>\n",
       "      <td>0.067548</td>\n",
       "      <td>0.057549</td>\n",
       "      <td>0.056776</td>\n",
       "    </tr>\n",
       "    <tr>\n",
       "      <th>2</th>\n",
       "      <td>[[-8.63451586 -8.02576822 -6.33664411] Zr, [-6...</td>\n",
       "      <td>Ag_ZrO2_cat_3.125_222_p-o.cif</td>\n",
       "      <td>0.0</td>\n",
       "      <td>0.0</td>\n",
       "      <td>0.0</td>\n",
       "      <td>0.0</td>\n",
       "      <td>0.0</td>\n",
       "      <td>0.000000</td>\n",
       "      <td>0.074706</td>\n",
       "      <td>0.075097</td>\n",
       "      <td>...</td>\n",
       "      <td>0.066505</td>\n",
       "      <td>0.062730</td>\n",
       "      <td>0.059890</td>\n",
       "      <td>0.060126</td>\n",
       "      <td>0.060051</td>\n",
       "      <td>0.056573</td>\n",
       "      <td>0.062386</td>\n",
       "      <td>0.065002</td>\n",
       "      <td>0.062582</td>\n",
       "      <td>0.055782</td>\n",
       "    </tr>\n",
       "    <tr>\n",
       "      <th>3</th>\n",
       "      <td>[[ 1.30468543 -7.65082882  3.77109169] Zr, [ 3...</td>\n",
       "      <td>Ag_ZrO2_cat_3.125_222_t.cif</td>\n",
       "      <td>0.0</td>\n",
       "      <td>0.0</td>\n",
       "      <td>0.0</td>\n",
       "      <td>0.0</td>\n",
       "      <td>0.0</td>\n",
       "      <td>0.000000</td>\n",
       "      <td>0.001940</td>\n",
       "      <td>0.129779</td>\n",
       "      <td>...</td>\n",
       "      <td>0.073647</td>\n",
       "      <td>0.050321</td>\n",
       "      <td>0.072094</td>\n",
       "      <td>0.067465</td>\n",
       "      <td>0.044424</td>\n",
       "      <td>0.057647</td>\n",
       "      <td>0.080648</td>\n",
       "      <td>0.057533</td>\n",
       "      <td>0.057308</td>\n",
       "      <td>0.056483</td>\n",
       "    </tr>\n",
       "    <tr>\n",
       "      <th>4</th>\n",
       "      <td>[[1.38880269 2.40992106 4.37773968] Zr, [3.657...</td>\n",
       "      <td>Ag_ZrO2_cat_6.25_122_m.cif</td>\n",
       "      <td>0.0</td>\n",
       "      <td>0.0</td>\n",
       "      <td>0.0</td>\n",
       "      <td>0.0</td>\n",
       "      <td>0.0</td>\n",
       "      <td>0.000000</td>\n",
       "      <td>0.086219</td>\n",
       "      <td>0.040683</td>\n",
       "      <td>...</td>\n",
       "      <td>0.061586</td>\n",
       "      <td>0.057137</td>\n",
       "      <td>0.061246</td>\n",
       "      <td>0.064274</td>\n",
       "      <td>0.052079</td>\n",
       "      <td>0.055563</td>\n",
       "      <td>0.061908</td>\n",
       "      <td>0.070081</td>\n",
       "      <td>0.043672</td>\n",
       "      <td>0.059160</td>\n",
       "    </tr>\n",
       "    <tr>\n",
       "      <th>...</th>\n",
       "      <td>...</td>\n",
       "      <td>...</td>\n",
       "      <td>...</td>\n",
       "      <td>...</td>\n",
       "      <td>...</td>\n",
       "      <td>...</td>\n",
       "      <td>...</td>\n",
       "      <td>...</td>\n",
       "      <td>...</td>\n",
       "      <td>...</td>\n",
       "      <td>...</td>\n",
       "      <td>...</td>\n",
       "      <td>...</td>\n",
       "      <td>...</td>\n",
       "      <td>...</td>\n",
       "      <td>...</td>\n",
       "      <td>...</td>\n",
       "      <td>...</td>\n",
       "      <td>...</td>\n",
       "      <td>...</td>\n",
       "      <td>...</td>\n",
       "    </tr>\n",
       "    <tr>\n",
       "      <th>1720</th>\n",
       "      <td>[[-8.87001828 -5.13740927 -8.87001828] Zr, [-8...</td>\n",
       "      <td>Zr_ZrO2_inter_6.25_212_t.cif</td>\n",
       "      <td>0.0</td>\n",
       "      <td>0.0</td>\n",
       "      <td>0.0</td>\n",
       "      <td>0.0</td>\n",
       "      <td>0.0</td>\n",
       "      <td>0.014815</td>\n",
       "      <td>0.028307</td>\n",
       "      <td>0.106362</td>\n",
       "      <td>...</td>\n",
       "      <td>0.068600</td>\n",
       "      <td>0.045228</td>\n",
       "      <td>0.081662</td>\n",
       "      <td>0.058141</td>\n",
       "      <td>0.052948</td>\n",
       "      <td>0.050638</td>\n",
       "      <td>0.077049</td>\n",
       "      <td>0.059527</td>\n",
       "      <td>0.055724</td>\n",
       "      <td>0.062322</td>\n",
       "    </tr>\n",
       "    <tr>\n",
       "      <th>1721</th>\n",
       "      <td>[[  1.25503143 -10.19349096  -3.47224897] Zr, ...</td>\n",
       "      <td>Zr_ZrO2_inter_6.25_221_m.cif</td>\n",
       "      <td>0.0</td>\n",
       "      <td>0.0</td>\n",
       "      <td>0.0</td>\n",
       "      <td>0.0</td>\n",
       "      <td>0.0</td>\n",
       "      <td>0.009876</td>\n",
       "      <td>0.076076</td>\n",
       "      <td>0.041215</td>\n",
       "      <td>...</td>\n",
       "      <td>0.057951</td>\n",
       "      <td>0.050722</td>\n",
       "      <td>0.067311</td>\n",
       "      <td>0.062041</td>\n",
       "      <td>0.046797</td>\n",
       "      <td>0.054079</td>\n",
       "      <td>0.056801</td>\n",
       "      <td>0.068213</td>\n",
       "      <td>0.054248</td>\n",
       "      <td>0.047609</td>\n",
       "    </tr>\n",
       "    <tr>\n",
       "      <th>1722</th>\n",
       "      <td>[[ -8.73042916 -10.14298992   2.09308249] Zr, ...</td>\n",
       "      <td>Zr_ZrO2_inter_6.25_221_o.cif</td>\n",
       "      <td>0.0</td>\n",
       "      <td>0.0</td>\n",
       "      <td>0.0</td>\n",
       "      <td>0.0</td>\n",
       "      <td>0.0</td>\n",
       "      <td>0.012346</td>\n",
       "      <td>0.081384</td>\n",
       "      <td>0.038556</td>\n",
       "      <td>...</td>\n",
       "      <td>0.057566</td>\n",
       "      <td>0.054050</td>\n",
       "      <td>0.061284</td>\n",
       "      <td>0.064345</td>\n",
       "      <td>0.047767</td>\n",
       "      <td>0.054900</td>\n",
       "      <td>0.056383</td>\n",
       "      <td>0.066686</td>\n",
       "      <td>0.055482</td>\n",
       "      <td>0.052734</td>\n",
       "    </tr>\n",
       "    <tr>\n",
       "      <th>1723</th>\n",
       "      <td>[[-8.87228424  9.95995753 -4.04166983] Zr, [-8...</td>\n",
       "      <td>Zr_ZrO2_inter_6.25_221_p-o.cif</td>\n",
       "      <td>0.0</td>\n",
       "      <td>0.0</td>\n",
       "      <td>0.0</td>\n",
       "      <td>0.0</td>\n",
       "      <td>0.0</td>\n",
       "      <td>0.014815</td>\n",
       "      <td>0.028307</td>\n",
       "      <td>0.106362</td>\n",
       "      <td>...</td>\n",
       "      <td>0.068600</td>\n",
       "      <td>0.045228</td>\n",
       "      <td>0.081662</td>\n",
       "      <td>0.058141</td>\n",
       "      <td>0.052948</td>\n",
       "      <td>0.050638</td>\n",
       "      <td>0.077109</td>\n",
       "      <td>0.059527</td>\n",
       "      <td>0.055670</td>\n",
       "      <td>0.062322</td>\n",
       "    </tr>\n",
       "    <tr>\n",
       "      <th>1724</th>\n",
       "      <td>[[1.2716803  9.96087029 1.28860667] Zr, [1.271...</td>\n",
       "      <td>Zr_ZrO2_inter_6.25_221_t.cif</td>\n",
       "      <td>0.0</td>\n",
       "      <td>0.0</td>\n",
       "      <td>0.0</td>\n",
       "      <td>0.0</td>\n",
       "      <td>0.0</td>\n",
       "      <td>0.014815</td>\n",
       "      <td>0.028307</td>\n",
       "      <td>0.106362</td>\n",
       "      <td>...</td>\n",
       "      <td>0.068600</td>\n",
       "      <td>0.045228</td>\n",
       "      <td>0.081662</td>\n",
       "      <td>0.058141</td>\n",
       "      <td>0.052948</td>\n",
       "      <td>0.050638</td>\n",
       "      <td>0.077049</td>\n",
       "      <td>0.059527</td>\n",
       "      <td>0.055724</td>\n",
       "      <td>0.062322</td>\n",
       "    </tr>\n",
       "  </tbody>\n",
       "</table>\n",
       "<p>1725 rows × 122 columns</p>\n",
       "</div>"
      ],
      "text/plain": [
       "                                              structure  \\\n",
       "0     [[1.39842671 2.40664143 4.37446042] Zr, [3.615...   \n",
       "1     [[1.41037568 2.41800359 4.39765312] Zr, [3.632...   \n",
       "2     [[-8.63451586 -8.02576822 -6.33664411] Zr, [-6...   \n",
       "3     [[ 1.30468543 -7.65082882  3.77109169] Zr, [ 3...   \n",
       "4     [[1.38880269 2.40992106 4.37773968] Zr, [3.657...   \n",
       "...                                                 ...   \n",
       "1720  [[-8.87001828 -5.13740927 -8.87001828] Zr, [-8...   \n",
       "1721  [[  1.25503143 -10.19349096  -3.47224897] Zr, ...   \n",
       "1722  [[ -8.73042916 -10.14298992   2.09308249] Zr, ...   \n",
       "1723  [[-8.87228424  9.95995753 -4.04166983] Zr, [-8...   \n",
       "1724  [[1.2716803  9.96087029 1.28860667] Zr, [1.271...   \n",
       "\n",
       "                                name  Zr-Zr PRDF r=0.00-0.50  \\\n",
       "0        Ag_ZrO2_cat_3.125_222_m.cif                     0.0   \n",
       "1        Ag_ZrO2_cat_3.125_222_o.cif                     0.0   \n",
       "2      Ag_ZrO2_cat_3.125_222_p-o.cif                     0.0   \n",
       "3        Ag_ZrO2_cat_3.125_222_t.cif                     0.0   \n",
       "4         Ag_ZrO2_cat_6.25_122_m.cif                     0.0   \n",
       "...                              ...                     ...   \n",
       "1720    Zr_ZrO2_inter_6.25_212_t.cif                     0.0   \n",
       "1721    Zr_ZrO2_inter_6.25_221_m.cif                     0.0   \n",
       "1722    Zr_ZrO2_inter_6.25_221_o.cif                     0.0   \n",
       "1723  Zr_ZrO2_inter_6.25_221_p-o.cif                     0.0   \n",
       "1724    Zr_ZrO2_inter_6.25_221_t.cif                     0.0   \n",
       "\n",
       "      Zr-Zr PRDF r=0.50-1.00  Zr-Zr PRDF r=1.00-1.50  Zr-Zr PRDF r=1.50-2.00  \\\n",
       "0                        0.0                     0.0                     0.0   \n",
       "1                        0.0                     0.0                     0.0   \n",
       "2                        0.0                     0.0                     0.0   \n",
       "3                        0.0                     0.0                     0.0   \n",
       "4                        0.0                     0.0                     0.0   \n",
       "...                      ...                     ...                     ...   \n",
       "1720                     0.0                     0.0                     0.0   \n",
       "1721                     0.0                     0.0                     0.0   \n",
       "1722                     0.0                     0.0                     0.0   \n",
       "1723                     0.0                     0.0                     0.0   \n",
       "1724                     0.0                     0.0                     0.0   \n",
       "\n",
       "      Zr-Zr PRDF r=2.00-2.50  Zr-Zr PRDF r=2.50-3.00  Zr-Zr PRDF r=3.00-3.50  \\\n",
       "0                        0.0                0.000000                0.088289   \n",
       "1                        0.0                0.000000                0.097991   \n",
       "2                        0.0                0.000000                0.074706   \n",
       "3                        0.0                0.000000                0.001940   \n",
       "4                        0.0                0.000000                0.086219   \n",
       "...                      ...                     ...                     ...   \n",
       "1720                     0.0                0.014815                0.028307   \n",
       "1721                     0.0                0.009876                0.076076   \n",
       "1722                     0.0                0.012346                0.081384   \n",
       "1723                     0.0                0.014815                0.028307   \n",
       "1724                     0.0                0.014815                0.028307   \n",
       "\n",
       "      Zr-Zr PRDF r=3.50-4.00  ...  O-O PRDF r=15.00-15.50  \\\n",
       "0                   0.042287  ...                0.061330   \n",
       "1                   0.041558  ...                0.062549   \n",
       "2                   0.075097  ...                0.066505   \n",
       "3                   0.129779  ...                0.073647   \n",
       "4                   0.040683  ...                0.061586   \n",
       "...                      ...  ...                     ...   \n",
       "1720                0.106362  ...                0.068600   \n",
       "1721                0.041215  ...                0.057951   \n",
       "1722                0.038556  ...                0.057566   \n",
       "1723                0.106362  ...                0.068600   \n",
       "1724                0.106362  ...                0.068600   \n",
       "\n",
       "      O-O PRDF r=15.50-16.00  O-O PRDF r=16.00-16.50  O-O PRDF r=16.50-17.00  \\\n",
       "0                   0.056475                0.061001                0.065090   \n",
       "1                   0.052566                0.065333                0.062023   \n",
       "2                   0.062730                0.059890                0.060126   \n",
       "3                   0.050321                0.072094                0.067465   \n",
       "4                   0.057137                0.061246                0.064274   \n",
       "...                      ...                     ...                     ...   \n",
       "1720                0.045228                0.081662                0.058141   \n",
       "1721                0.050722                0.067311                0.062041   \n",
       "1722                0.054050                0.061284                0.064345   \n",
       "1723                0.045228                0.081662                0.058141   \n",
       "1724                0.045228                0.081662                0.058141   \n",
       "\n",
       "      O-O PRDF r=17.00-17.50  O-O PRDF r=17.50-18.00  O-O PRDF r=18.00-18.50  \\\n",
       "0                   0.051092                0.056937                0.062655   \n",
       "1                   0.050942                0.059967                0.054636   \n",
       "2                   0.060051                0.056573                0.062386   \n",
       "3                   0.044424                0.057647                0.080648   \n",
       "4                   0.052079                0.055563                0.061908   \n",
       "...                      ...                     ...                     ...   \n",
       "1720                0.052948                0.050638                0.077049   \n",
       "1721                0.046797                0.054079                0.056801   \n",
       "1722                0.047767                0.054900                0.056383   \n",
       "1723                0.052948                0.050638                0.077109   \n",
       "1724                0.052948                0.050638                0.077049   \n",
       "\n",
       "      O-O PRDF r=18.50-19.00  O-O PRDF r=19.00-19.50  O-O PRDF r=19.50-20.00  \n",
       "0                   0.069416                0.043605                0.059658  \n",
       "1                   0.067548                0.057549                0.056776  \n",
       "2                   0.065002                0.062582                0.055782  \n",
       "3                   0.057533                0.057308                0.056483  \n",
       "4                   0.070081                0.043672                0.059160  \n",
       "...                      ...                     ...                     ...  \n",
       "1720                0.059527                0.055724                0.062322  \n",
       "1721                0.068213                0.054248                0.047609  \n",
       "1722                0.066686                0.055482                0.052734  \n",
       "1723                0.059527                0.055670                0.062322  \n",
       "1724                0.059527                0.055724                0.062322  \n",
       "\n",
       "[1725 rows x 122 columns]"
      ]
     },
     "execution_count": 3,
     "metadata": {},
     "output_type": "execute_result"
    }
   ],
   "source": [
    "# test if 222 crystals make a difference\n",
    "df = pd.read_pickle('./df_prdf_zro2.pkl')\n",
    "#df.insert(loc=2, column='y_true', value=y_true)\n",
    "#df = df[~df.name.str.contains(\"222\")]\n",
    "df"
   ]
  },
  {
   "cell_type": "code",
   "execution_count": null,
   "metadata": {},
   "outputs": [],
   "source": []
  },
  {
   "cell_type": "code",
   "execution_count": 25,
   "metadata": {},
   "outputs": [],
   "source": [
    "from sklearn.utils import shuffle\n",
    "import matplotlib.pyplot as plt\n",
    "X = df.iloc[:,2:]\n",
    "# X, y_true = shuffle(X, y_true, random_state=0)\n",
    "X = X.values"
   ]
  },
  {
   "cell_type": "code",
   "execution_count": 12,
   "metadata": {},
   "outputs": [
    {
     "data": {
      "text/plain": [
       "array([[0.        , 0.        , 0.        , ..., 0.83953168, 0.08736426,\n",
       "        0.69904648],\n",
       "       [0.        , 0.        , 0.        , ..., 0.74862259, 0.60019743,\n",
       "        0.56436234],\n",
       "       [0.        , 0.        , 0.        , ..., 0.62465565, 0.78529121,\n",
       "        0.51787843],\n",
       "       ...,\n",
       "       [0.        , 0.        , 0.        , ..., 0.70661157, 0.52418559,\n",
       "        0.37544696],\n",
       "       [0.        , 0.        , 0.        , ..., 0.35812672, 0.53109576,\n",
       "        0.82359952],\n",
       "       [0.        , 0.        , 0.        , ..., 0.35812672, 0.53307009,\n",
       "        0.82359952]])"
      ]
     },
     "execution_count": 12,
     "metadata": {},
     "output_type": "execute_result"
    }
   ],
   "source": [
    "from sklearn.preprocessing import MinMaxScaler\n",
    "\n",
    "scaler = MinMaxScaler()\n",
    "X = scaler.fit_transform(X)\n",
    "X"
   ]
  },
  {
   "cell_type": "code",
   "execution_count": 13,
   "metadata": {},
   "outputs": [
    {
     "data": {
      "text/plain": [
       "array([3, 1, 0, ..., 1, 4, 4])"
      ]
     },
     "execution_count": 13,
     "metadata": {},
     "output_type": "execute_result"
    }
   ],
   "source": [
    "from sklearn.cluster import KMeans\n",
    "y_pred = KMeans(n_clusters=5, random_state=0).fit_predict(X)\n",
    "y_pred"
   ]
  },
  {
   "cell_type": "code",
   "execution_count": null,
   "metadata": {},
   "outputs": [],
   "source": []
  },
  {
   "cell_type": "code",
   "execution_count": 18,
   "metadata": {},
   "outputs": [
    {
     "data": {
      "text/plain": [
       "0.36165915939182774"
      ]
     },
     "execution_count": 18,
     "metadata": {},
     "output_type": "execute_result"
    }
   ],
   "source": [
    "from sklearn import metrics\n",
    "metrics.silhouette_score(X, y_pred, metric='l1')"
   ]
  },
  {
   "cell_type": "code",
   "execution_count": 15,
   "metadata": {},
   "outputs": [
    {
     "name": "stderr",
     "output_type": "stream",
     "text": [
      "C:\\Users\\Maxi\\anaconda3\\lib\\site-packages\\sklearn\\utils\\deprecation.py:143: FutureWarning: The sklearn.metrics.classification module is  deprecated in version 0.22 and will be removed in version 0.24. The corresponding classes / functions should instead be imported from sklearn.metrics. Anything that cannot be imported from sklearn.metrics is now part of the private API.\n",
      "  warnings.warn(message, FutureWarning)\n"
     ]
    },
    {
     "data": {
      "image/png": "[encoded data removed]",
      "text/plain": [
       "<Figure size 576x396 with 2 Axes>"
      ]
     },
     "metadata": {},
     "output_type": "display_data"
    },
    {
     "data": {
      "text/plain": [
       "<AxesSubplot:title={'center':'Distortion Score Elbow for KMeans Clustering'}, xlabel='k', ylabel='distortion score'>"
      ]
     },
     "execution_count": 15,
     "metadata": {},
     "output_type": "execute_result"
    }
   ],
   "source": [
    "\n",
    "from yellowbrick.cluster import KElbowVisualizer\n",
    "kmeans = KMeans()\n",
    "\n",
    "visualizer = KElbowVisualizer(kmeans, k=(2,12))\n",
    "\n",
    "visualizer.fit(X)        # Fit the data to the visualizer\n",
    "visualizer.show()        # Finalize and render the figure"
   ]
  },
  {
   "cell_type": "code",
   "execution_count": 131,
   "metadata": {},
   "outputs": [
    {
     "name": "stdout",
     "output_type": "stream",
     "text": [
      "{-1: 7, 0: 1707, 1: 11}\n",
      "Estimated number of clusters: 2\n",
      "Estimated number of noise points: 7\n",
      "Silhouette Coefficient: -0.055\n"
     ]
    }
   ],
   "source": [
    "from sklearn.cluster import DBSCAN\n",
    "from sklearn import metrics\n",
    "from sklearn.preprocessing import StandardScaler\n",
    "\n",
    "db = DBSCAN(eps=0.05, min_samples=5).fit(X)\n",
    "core_samples_mask = np.zeros_like(db.labels_, dtype=bool)\n",
    "core_samples_mask[db.core_sample_indices_] = True\n",
    "labels = db.labels_\n",
    "\n",
    "# Number of clusters in labels, ignoring noise if present.\n",
    "n_clusters_ = len(set(labels)) - (1 if -1 in labels else 0)\n",
    "n_noise_ = list(labels).count(-1)\n",
    "\n",
    "unique, counts = np.unique(labels, return_counts=True)\n",
    "print(dict(zip(unique, counts)))\n",
    "\n",
    "\n",
    "print('Estimated number of clusters: %d' % n_clusters_)\n",
    "print('Estimated number of noise points: %d' % n_noise_)\n",
    "print(\"Silhouette Coefficient: %0.3f\" % metrics.silhouette_score(X, labels))"
   ]
  },
  {
   "cell_type": "code",
   "execution_count": 77,
   "metadata": {},
   "outputs": [],
   "source": [
    "from sklearn.model_selection import cross_val_score\n",
    "from sklearn.preprocessing import StandardScaler\n",
    "from sklearn.ensemble import RandomForestClassifier\n",
    "from sklearn.metrics import confusion_matrix"
   ]
  },
  {
   "cell_type": "code",
   "execution_count": null,
   "metadata": {},
   "outputs": [],
   "source": []
  },
  {
   "cell_type": "code",
   "execution_count": 78,
   "metadata": {},
   "outputs": [
    {
     "name": "stdout",
     "output_type": "stream",
     "text": [
      "0.9304375588116681\n"
     ]
    }
   ],
   "source": [
    "# Random Forest\n",
    "classifier = RandomForestClassifier(n_estimators = 38, criterion = 'entropy', random_state = 42)\n",
    "scores = cross_val_score(classifier, X, y_true, cv=10, scoring='accuracy')\n",
    "print(scores.mean())"
   ]
  },
  {
   "cell_type": "code",
   "execution_count": 79,
   "metadata": {},
   "outputs": [
    {
     "data": {
      "image/png": "[encoded data removed]",
      "text/plain": [
       "<Figure size 576x396 with 1 Axes>"
      ]
     },
     "metadata": {},
     "output_type": "display_data"
    }
   ],
   "source": [
    "import matplotlib.pyplot as plt\n",
    "# choose k between 1 to 31\n",
    "k_range = range(1, 40)\n",
    "\n",
    "k_scores = []# use iteration to caclulator different k in models, then return the average accuracy based on the cross validation\n",
    "for k in k_range:\n",
    "    rfc =  RandomForestClassifier(n_estimators = k, criterion = 'entropy', random_state = 42)\n",
    "    scores = cross_val_score(rfc, X, y_true, cv=10, scoring='accuracy')\n",
    "    k_scores.append(scores.mean())# plot to see clearly\n",
    "plt.plot(k_range, k_scores)\n",
    "plt.xlabel('Value of K for KNN')\n",
    "plt.ylabel('Cross-Validated Accuracy')\n",
    "plt.show()"
   ]
  },
  {
   "cell_type": "code",
   "execution_count": 80,
   "metadata": {},
   "outputs": [
    {
     "name": "stdout",
     "output_type": "stream",
     "text": [
      "0.9200262132006991\n"
     ]
    }
   ],
   "source": [
    "# try with KNN\n",
    "from sklearn.neighbors import KNeighborsClassifier\n",
    "neigh = KNeighborsClassifier(n_neighbors=17)\n",
    "scores = cross_val_score(neigh, X, y_true, cv=10, scoring='accuracy')\n",
    "print(scores.mean())"
   ]
  },
  {
   "cell_type": "code",
   "execution_count": 81,
   "metadata": {},
   "outputs": [
    {
     "data": {
      "image/png": "[encoded data removed]",
      "text/plain": [
       "<Figure size 576x396 with 1 Axes>"
      ]
     },
     "metadata": {},
     "output_type": "display_data"
    }
   ],
   "source": [
    "import matplotlib.pyplot as plt\n",
    "# choose k between 1 to 31\n",
    "k_range = range(1, 50)\n",
    "\n",
    "k_scores = []# use iteration to caclulator different k in models, then return the average accuracy based on the cross validation\n",
    "for k in k_range:\n",
    "    knn = KNeighborsClassifier(n_neighbors=k)\n",
    "    scores = cross_val_score(knn, X, y_true, cv=10, scoring='accuracy')\n",
    "    k_scores.append(scores.mean())# plot to see clearly\n",
    "plt.plot(k_range, k_scores)\n",
    "plt.xlabel('Value of K for KNN')\n",
    "plt.ylabel('Cross-Validated Accuracy')\n",
    "plt.show()"
   ]
  },
  {
   "cell_type": "code",
   "execution_count": null,
   "metadata": {},
   "outputs": [],
   "source": []
  },
  {
   "cell_type": "code",
   "execution_count": null,
   "metadata": {},
   "outputs": [],
   "source": [
    "\n"
   ]
  },
  {
   "cell_type": "code",
   "execution_count": null,
   "metadata": {},
   "outputs": [],
   "source": []
  },
  {
   "cell_type": "code",
   "execution_count": null,
   "metadata": {},
   "outputs": [],
   "source": []
  }
 ],
 "metadata": {
  "kernelspec": {
   "display_name": "Python 3",
   "language": "python",
   "name": "python3"
  },
  "language_info": {
   "codemirror_mode": {
    "name": "ipython",
    "version": 3
   },
   "file_extension": ".py",
   "mimetype": "text/x-python",
   "name": "python",
   "nbconvert_exporter": "python",
   "pygments_lexer": "ipython3",
   "version": "3.8.2"
  }
 },
 "nbformat": 4,
 "nbformat_minor": 4
}
