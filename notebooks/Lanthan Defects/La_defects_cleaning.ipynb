{
 "cells": [
  {
   "cell_type": "code",
   "execution_count": 1,
   "metadata": {},
   "outputs": [],
   "source": [
    "import pandas as pd\n"
   ]
  },
  {
   "cell_type": "code",
   "execution_count": 5,
   "metadata": {},
   "outputs": [],
   "source": [
    "df = pd.read_pickle(r'C:\\Python\\Projects\\crystal-phase-prediction\\pkl_files\\structure_labels_La_defects.pkl')"
   ]
  },
  {
   "cell_type": "code",
   "execution_count": 6,
   "metadata": {
    "scrolled": true
   },
   "outputs": [
    {
     "output_type": "execute_result",
     "data": {
      "text/plain": [
       "                                             structure  \\\n",
       "0    [[1.2928479  5.17927294 1.26819645] Hf, [1.293...   \n",
       "1    [[-3.77885157e+00  2.73707898e-03 -3.81414680e...   \n",
       "2    [[-3.79660671 -5.1630596   1.27059801] Hf, [-3...   \n",
       "3    [[ 0.99913941 -9.9788178  -8.49936051] La, [ 1...   \n",
       "4    [[-3.83886481 -0.03604068 -9.12670293] La, [-1...   \n",
       "..                                                 ...   \n",
       "334  [[ 1.26849616 -2.59236768  1.26845884] La, [ 1...   \n",
       "335  [[-5.17180394  2.61804914 -3.56442079] La, [-8...   \n",
       "336  [[5.99738519 2.70065929 0.2573197 ] La, [1.407...   \n",
       "337  [[-8.7955774  -7.50515665 -0.30954248] La, [-9...   \n",
       "338  [[-8.74761452 -7.85175277  1.05666296] La, [-8...   \n",
       "\n",
       "                               name lables_0_3_  \n",
       "0          Hf14La2O32_sc122_t_1.cif           t  \n",
       "1          Hf14La2O32_sc122_t_2.cif           t  \n",
       "2          Hf14La2O32_sc122_t_3.cif           t  \n",
       "3          Hf14La2O32_sc122_t_4.cif           t  \n",
       "4          Hf14La2O32_sc122_t_5.cif           t  \n",
       "..                              ...         ...  \n",
       "334    La_HfO2_inter_6.25_212_t.cif           t  \n",
       "335    La_HfO2_inter_6.25_221_m.cif           m  \n",
       "336    La_HfO2_inter_6.25_221_o.cif           o  \n",
       "337  La_HfO2_inter_6.25_221_p-o.cif         p-o  \n",
       "338    La_HfO2_inter_6.25_221_t.cif           t  \n",
       "\n",
       "[339 rows x 3 columns]"
      ],
      "text/html": "<div>\n<style scoped>\n    .dataframe tbody tr th:only-of-type {\n        vertical-align: middle;\n    }\n\n    .dataframe tbody tr th {\n        vertical-align: top;\n    }\n\n    .dataframe thead th {\n        text-align: right;\n    }\n</style>\n<table border=\"1\" class=\"dataframe\">\n  <thead>\n    <tr style=\"text-align: right;\">\n      <th></th>\n      <th>structure</th>\n      <th>name</th>\n      <th>lables_0_3_</th>\n    </tr>\n  </thead>\n  <tbody>\n    <tr>\n      <th>0</th>\n      <td>[[1.2928479  5.17927294 1.26819645] Hf, [1.293...</td>\n      <td>Hf14La2O32_sc122_t_1.cif</td>\n      <td>t</td>\n    </tr>\n    <tr>\n      <th>1</th>\n      <td>[[-3.77885157e+00  2.73707898e-03 -3.81414680e...</td>\n      <td>Hf14La2O32_sc122_t_2.cif</td>\n      <td>t</td>\n    </tr>\n    <tr>\n      <th>2</th>\n      <td>[[-3.79660671 -5.1630596   1.27059801] Hf, [-3...</td>\n      <td>Hf14La2O32_sc122_t_3.cif</td>\n      <td>t</td>\n    </tr>\n    <tr>\n      <th>3</th>\n      <td>[[ 0.99913941 -9.9788178  -8.49936051] La, [ 1...</td>\n      <td>Hf14La2O32_sc122_t_4.cif</td>\n      <td>t</td>\n    </tr>\n    <tr>\n      <th>4</th>\n      <td>[[-3.83886481 -0.03604068 -9.12670293] La, [-1...</td>\n      <td>Hf14La2O32_sc122_t_5.cif</td>\n      <td>t</td>\n    </tr>\n    <tr>\n      <th>...</th>\n      <td>...</td>\n      <td>...</td>\n      <td>...</td>\n    </tr>\n    <tr>\n      <th>334</th>\n      <td>[[ 1.26849616 -2.59236768  1.26845884] La, [ 1...</td>\n      <td>La_HfO2_inter_6.25_212_t.cif</td>\n      <td>t</td>\n    </tr>\n    <tr>\n      <th>335</th>\n      <td>[[-5.17180394  2.61804914 -3.56442079] La, [-8...</td>\n      <td>La_HfO2_inter_6.25_221_m.cif</td>\n      <td>m</td>\n    </tr>\n    <tr>\n      <th>336</th>\n      <td>[[5.99738519 2.70065929 0.2573197 ] La, [1.407...</td>\n      <td>La_HfO2_inter_6.25_221_o.cif</td>\n      <td>o</td>\n    </tr>\n    <tr>\n      <th>337</th>\n      <td>[[-8.7955774  -7.50515665 -0.30954248] La, [-9...</td>\n      <td>La_HfO2_inter_6.25_221_p-o.cif</td>\n      <td>p-o</td>\n    </tr>\n    <tr>\n      <th>338</th>\n      <td>[[-8.74761452 -7.85175277  1.05666296] La, [-8...</td>\n      <td>La_HfO2_inter_6.25_221_t.cif</td>\n      <td>t</td>\n    </tr>\n  </tbody>\n</table>\n<p>339 rows × 3 columns</p>\n</div>"
     },
     "metadata": {},
     "execution_count": 6
    }
   ],
   "source": [
    "df"
   ]
  },
  {
   "cell_type": "code",
   "execution_count": null,
   "metadata": {},
   "outputs": [],
   "source": [
    "df.name = df.name.str.replace('No14','m')\n",
    "df.name = df.name.str.replace('No137','t')\n",
    "df.name = df.name.str.replace('No29','o')\n",
    "df.name= df.name.str.replace('No61','p-o')\n",
    "df"
   ]
  },
  {
   "cell_type": "code",
   "execution_count": 6,
   "metadata": {},
   "outputs": [],
   "source": [
    "df['labels_0_3'] = df['name'].str.extract(r'([^_]*_[^_]*)$') "
   ]
  },
  {
   "cell_type": "code",
   "execution_count": 7,
   "metadata": {},
   "outputs": [],
   "source": [
    "df['labels_0_3_'] = df['labels_0_3'].str.extract(r'([a-zA-Z]+)')"
   ]
  },
  {
   "cell_type": "code",
   "execution_count": 8,
   "metadata": {},
   "outputs": [],
   "source": [
    "df.lables_0_3_ = df.lables_0_3_.str.replace('p','p-o')\n",
    "df  = df.drop(columns=['labels_0_3'])"
   ]
  },
  {
   "cell_type": "code",
   "execution_count": 8,
   "metadata": {},
   "outputs": [],
   "source": [
    "df.to_pickle(r'C:\\Python\\Projects\\crystal-phase-prediction\\pkl_files\\structure_labels_La_defects.pkl')"
   ]
  },
  {
   "cell_type": "code",
   "execution_count": 15,
   "metadata": {},
   "outputs": [],
   "source": []
  },
  {
   "cell_type": "code",
   "execution_count": null,
   "metadata": {},
   "outputs": [],
   "source": []
  }
 ],
 "metadata": {
  "kernelspec": {
   "display_name": "Python 3",
   "language": "python",
   "name": "python3"
  },
  "language_info": {
   "codemirror_mode": {
    "name": "ipython",
    "version": 3
   },
   "file_extension": ".py",
   "mimetype": "text/x-python",
   "name": "python",
   "nbconvert_exporter": "python",
   "pygments_lexer": "ipython3",
   "version": "3.8.2-final"
  }
 },
 "nbformat": 4,
 "nbformat_minor": 4
}