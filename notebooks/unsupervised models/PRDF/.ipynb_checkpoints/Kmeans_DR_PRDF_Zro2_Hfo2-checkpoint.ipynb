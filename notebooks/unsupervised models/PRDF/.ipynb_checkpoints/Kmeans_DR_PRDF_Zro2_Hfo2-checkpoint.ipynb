{
 "cells": [
  {
   "cell_type": "code",
   "execution_count": null,
   "metadata": {},
   "outputs": [],
   "source": [
    "#%matplotlib notebook"
   ]
  },
  {
   "cell_type": "code",
   "execution_count": 2,
   "metadata": {},
   "outputs": [],
   "source": [
    "import pandas as pd\n",
    "import numpy as np\n",
    "import seaborn as sns\n",
    "import matplotlib.pyplot as plt\n",
    "plt.rcParams['figure.figsize'] = [13, 8]\n",
    "import pathlib\n",
    "import plotly.express as px\n",
    "\n",
    "from sklearn.preprocessing import StandardScaler\n",
    "from sklearn.preprocessing import MinMaxScaler\n",
    "from sklearn.metrics import confusion_matrix\n",
    "from sklearn import metrics\n",
    "from sklearn.cluster import KMeans\n",
    "from sklearn.cluster import OPTICS\n",
    "from sklearn.decomposition import PCA\n",
    "from sklearn.metrics import accuracy_score\n",
    "\n",
    "from algorithms import pca_algo, kmeans_algo, nmf_algo, tsne_algo\n",
    "from val_sort import sort_clusterlabels, name_change, plot2d, plot3d, hyperparameter_testing"
   ]
  },
  {
   "cell_type": "code",
   "execution_count": 3,
   "metadata": {
    "scrolled": true
   },
   "outputs": [
    {
     "data": {
      "text/html": [
       "<div>\n",
       "<style scoped>\n",
       "    .dataframe tbody tr th:only-of-type {\n",
       "        vertical-align: middle;\n",
       "    }\n",
       "\n",
       "    .dataframe tbody tr th {\n",
       "        vertical-align: top;\n",
       "    }\n",
       "\n",
       "    .dataframe thead th {\n",
       "        text-align: right;\n",
       "    }\n",
       "</style>\n",
       "<table border=\"1\" class=\"dataframe\">\n",
       "  <thead>\n",
       "    <tr style=\"text-align: right;\">\n",
       "      <th></th>\n",
       "      <th>structure</th>\n",
       "      <th>name</th>\n",
       "      <th>Zr-Zr PRDF r=0.00-0.50</th>\n",
       "      <th>Zr-Zr PRDF r=0.50-1.00</th>\n",
       "      <th>Zr-Zr PRDF r=1.00-1.50</th>\n",
       "      <th>Zr-Zr PRDF r=1.50-2.00</th>\n",
       "      <th>Zr-Zr PRDF r=2.00-2.50</th>\n",
       "      <th>Zr-Zr PRDF r=2.50-3.00</th>\n",
       "      <th>Zr-Zr PRDF r=3.00-3.50</th>\n",
       "      <th>Zr-Zr PRDF r=3.50-4.00</th>\n",
       "      <th>...</th>\n",
       "      <th>O-O PRDF r=15.00-15.50</th>\n",
       "      <th>O-O PRDF r=15.50-16.00</th>\n",
       "      <th>O-O PRDF r=16.00-16.50</th>\n",
       "      <th>O-O PRDF r=16.50-17.00</th>\n",
       "      <th>O-O PRDF r=17.00-17.50</th>\n",
       "      <th>O-O PRDF r=17.50-18.00</th>\n",
       "      <th>O-O PRDF r=18.00-18.50</th>\n",
       "      <th>O-O PRDF r=18.50-19.00</th>\n",
       "      <th>O-O PRDF r=19.00-19.50</th>\n",
       "      <th>O-O PRDF r=19.50-20.00</th>\n",
       "    </tr>\n",
       "  </thead>\n",
       "  <tbody>\n",
       "    <tr>\n",
       "      <th>0</th>\n",
       "      <td>[[1.39842671 2.40664143 4.37446042] Zr, [3.615...</td>\n",
       "      <td>Ag_ZrO2_cat_3.125_222_m.cif</td>\n",
       "      <td>0.0</td>\n",
       "      <td>0.0</td>\n",
       "      <td>0.0</td>\n",
       "      <td>0.0</td>\n",
       "      <td>0.0</td>\n",
       "      <td>0.000000</td>\n",
       "      <td>0.088289</td>\n",
       "      <td>0.042287</td>\n",
       "      <td>...</td>\n",
       "      <td>0.061330</td>\n",
       "      <td>0.056475</td>\n",
       "      <td>0.061001</td>\n",
       "      <td>0.065090</td>\n",
       "      <td>0.051092</td>\n",
       "      <td>0.056937</td>\n",
       "      <td>0.062655</td>\n",
       "      <td>0.069416</td>\n",
       "      <td>0.043605</td>\n",
       "      <td>0.059658</td>\n",
       "    </tr>\n",
       "    <tr>\n",
       "      <th>1</th>\n",
       "      <td>[[1.41037568 2.41800359 4.39765312] Zr, [3.632...</td>\n",
       "      <td>Ag_ZrO2_cat_3.125_222_o.cif</td>\n",
       "      <td>0.0</td>\n",
       "      <td>0.0</td>\n",
       "      <td>0.0</td>\n",
       "      <td>0.0</td>\n",
       "      <td>0.0</td>\n",
       "      <td>0.000000</td>\n",
       "      <td>0.097991</td>\n",
       "      <td>0.041558</td>\n",
       "      <td>...</td>\n",
       "      <td>0.062549</td>\n",
       "      <td>0.052566</td>\n",
       "      <td>0.065333</td>\n",
       "      <td>0.062023</td>\n",
       "      <td>0.050942</td>\n",
       "      <td>0.059967</td>\n",
       "      <td>0.054636</td>\n",
       "      <td>0.067548</td>\n",
       "      <td>0.057549</td>\n",
       "      <td>0.056776</td>\n",
       "    </tr>\n",
       "    <tr>\n",
       "      <th>2</th>\n",
       "      <td>[[-8.63451586 -8.02576822 -6.33664411] Zr, [-6...</td>\n",
       "      <td>Ag_ZrO2_cat_3.125_222_p-o.cif</td>\n",
       "      <td>0.0</td>\n",
       "      <td>0.0</td>\n",
       "      <td>0.0</td>\n",
       "      <td>0.0</td>\n",
       "      <td>0.0</td>\n",
       "      <td>0.000000</td>\n",
       "      <td>0.074706</td>\n",
       "      <td>0.075097</td>\n",
       "      <td>...</td>\n",
       "      <td>0.066505</td>\n",
       "      <td>0.062730</td>\n",
       "      <td>0.059890</td>\n",
       "      <td>0.060126</td>\n",
       "      <td>0.060051</td>\n",
       "      <td>0.056573</td>\n",
       "      <td>0.062386</td>\n",
       "      <td>0.065002</td>\n",
       "      <td>0.062582</td>\n",
       "      <td>0.055782</td>\n",
       "    </tr>\n",
       "    <tr>\n",
       "      <th>3</th>\n",
       "      <td>[[ 1.30468543 -7.65082882  3.77109169] Zr, [ 3...</td>\n",
       "      <td>Ag_ZrO2_cat_3.125_222_t.cif</td>\n",
       "      <td>0.0</td>\n",
       "      <td>0.0</td>\n",
       "      <td>0.0</td>\n",
       "      <td>0.0</td>\n",
       "      <td>0.0</td>\n",
       "      <td>0.000000</td>\n",
       "      <td>0.001940</td>\n",
       "      <td>0.129779</td>\n",
       "      <td>...</td>\n",
       "      <td>0.073647</td>\n",
       "      <td>0.050321</td>\n",
       "      <td>0.072094</td>\n",
       "      <td>0.067465</td>\n",
       "      <td>0.044424</td>\n",
       "      <td>0.057647</td>\n",
       "      <td>0.080648</td>\n",
       "      <td>0.057533</td>\n",
       "      <td>0.057308</td>\n",
       "      <td>0.056483</td>\n",
       "    </tr>\n",
       "    <tr>\n",
       "      <th>4</th>\n",
       "      <td>[[1.38880269 2.40992106 4.37773968] Zr, [3.657...</td>\n",
       "      <td>Ag_ZrO2_cat_6.25_122_m.cif</td>\n",
       "      <td>0.0</td>\n",
       "      <td>0.0</td>\n",
       "      <td>0.0</td>\n",
       "      <td>0.0</td>\n",
       "      <td>0.0</td>\n",
       "      <td>0.000000</td>\n",
       "      <td>0.086219</td>\n",
       "      <td>0.040683</td>\n",
       "      <td>...</td>\n",
       "      <td>0.061586</td>\n",
       "      <td>0.057137</td>\n",
       "      <td>0.061246</td>\n",
       "      <td>0.064274</td>\n",
       "      <td>0.052079</td>\n",
       "      <td>0.055563</td>\n",
       "      <td>0.061908</td>\n",
       "      <td>0.070081</td>\n",
       "      <td>0.043672</td>\n",
       "      <td>0.059160</td>\n",
       "    </tr>\n",
       "    <tr>\n",
       "      <th>...</th>\n",
       "      <td>...</td>\n",
       "      <td>...</td>\n",
       "      <td>...</td>\n",
       "      <td>...</td>\n",
       "      <td>...</td>\n",
       "      <td>...</td>\n",
       "      <td>...</td>\n",
       "      <td>...</td>\n",
       "      <td>...</td>\n",
       "      <td>...</td>\n",
       "      <td>...</td>\n",
       "      <td>...</td>\n",
       "      <td>...</td>\n",
       "      <td>...</td>\n",
       "      <td>...</td>\n",
       "      <td>...</td>\n",
       "      <td>...</td>\n",
       "      <td>...</td>\n",
       "      <td>...</td>\n",
       "      <td>...</td>\n",
       "      <td>...</td>\n",
       "    </tr>\n",
       "    <tr>\n",
       "      <th>1720</th>\n",
       "      <td>[[-8.87001828 -5.13740927 -8.87001828] Zr, [-8...</td>\n",
       "      <td>Zr_ZrO2_inter_6.25_212_t.cif</td>\n",
       "      <td>0.0</td>\n",
       "      <td>0.0</td>\n",
       "      <td>0.0</td>\n",
       "      <td>0.0</td>\n",
       "      <td>0.0</td>\n",
       "      <td>0.014815</td>\n",
       "      <td>0.028307</td>\n",
       "      <td>0.106362</td>\n",
       "      <td>...</td>\n",
       "      <td>0.068600</td>\n",
       "      <td>0.045228</td>\n",
       "      <td>0.081662</td>\n",
       "      <td>0.058141</td>\n",
       "      <td>0.052948</td>\n",
       "      <td>0.050638</td>\n",
       "      <td>0.077049</td>\n",
       "      <td>0.059527</td>\n",
       "      <td>0.055724</td>\n",
       "      <td>0.062322</td>\n",
       "    </tr>\n",
       "    <tr>\n",
       "      <th>1721</th>\n",
       "      <td>[[  1.25503143 -10.19349096  -3.47224897] Zr, ...</td>\n",
       "      <td>Zr_ZrO2_inter_6.25_221_m.cif</td>\n",
       "      <td>0.0</td>\n",
       "      <td>0.0</td>\n",
       "      <td>0.0</td>\n",
       "      <td>0.0</td>\n",
       "      <td>0.0</td>\n",
       "      <td>0.009876</td>\n",
       "      <td>0.076076</td>\n",
       "      <td>0.041215</td>\n",
       "      <td>...</td>\n",
       "      <td>0.057951</td>\n",
       "      <td>0.050722</td>\n",
       "      <td>0.067311</td>\n",
       "      <td>0.062041</td>\n",
       "      <td>0.046797</td>\n",
       "      <td>0.054079</td>\n",
       "      <td>0.056801</td>\n",
       "      <td>0.068213</td>\n",
       "      <td>0.054248</td>\n",
       "      <td>0.047609</td>\n",
       "    </tr>\n",
       "    <tr>\n",
       "      <th>1722</th>\n",
       "      <td>[[ -8.73042916 -10.14298992   2.09308249] Zr, ...</td>\n",
       "      <td>Zr_ZrO2_inter_6.25_221_o.cif</td>\n",
       "      <td>0.0</td>\n",
       "      <td>0.0</td>\n",
       "      <td>0.0</td>\n",
       "      <td>0.0</td>\n",
       "      <td>0.0</td>\n",
       "      <td>0.012346</td>\n",
       "      <td>0.081384</td>\n",
       "      <td>0.038556</td>\n",
       "      <td>...</td>\n",
       "      <td>0.057566</td>\n",
       "      <td>0.054050</td>\n",
       "      <td>0.061284</td>\n",
       "      <td>0.064345</td>\n",
       "      <td>0.047767</td>\n",
       "      <td>0.054900</td>\n",
       "      <td>0.056383</td>\n",
       "      <td>0.066686</td>\n",
       "      <td>0.055482</td>\n",
       "      <td>0.052734</td>\n",
       "    </tr>\n",
       "    <tr>\n",
       "      <th>1723</th>\n",
       "      <td>[[-8.87228424  9.95995753 -4.04166983] Zr, [-8...</td>\n",
       "      <td>Zr_ZrO2_inter_6.25_221_p-o.cif</td>\n",
       "      <td>0.0</td>\n",
       "      <td>0.0</td>\n",
       "      <td>0.0</td>\n",
       "      <td>0.0</td>\n",
       "      <td>0.0</td>\n",
       "      <td>0.014815</td>\n",
       "      <td>0.028307</td>\n",
       "      <td>0.106362</td>\n",
       "      <td>...</td>\n",
       "      <td>0.068600</td>\n",
       "      <td>0.045228</td>\n",
       "      <td>0.081662</td>\n",
       "      <td>0.058141</td>\n",
       "      <td>0.052948</td>\n",
       "      <td>0.050638</td>\n",
       "      <td>0.077109</td>\n",
       "      <td>0.059527</td>\n",
       "      <td>0.055670</td>\n",
       "      <td>0.062322</td>\n",
       "    </tr>\n",
       "    <tr>\n",
       "      <th>1724</th>\n",
       "      <td>[[1.2716803  9.96087029 1.28860667] Zr, [1.271...</td>\n",
       "      <td>Zr_ZrO2_inter_6.25_221_t.cif</td>\n",
       "      <td>0.0</td>\n",
       "      <td>0.0</td>\n",
       "      <td>0.0</td>\n",
       "      <td>0.0</td>\n",
       "      <td>0.0</td>\n",
       "      <td>0.014815</td>\n",
       "      <td>0.028307</td>\n",
       "      <td>0.106362</td>\n",
       "      <td>...</td>\n",
       "      <td>0.068600</td>\n",
       "      <td>0.045228</td>\n",
       "      <td>0.081662</td>\n",
       "      <td>0.058141</td>\n",
       "      <td>0.052948</td>\n",
       "      <td>0.050638</td>\n",
       "      <td>0.077049</td>\n",
       "      <td>0.059527</td>\n",
       "      <td>0.055724</td>\n",
       "      <td>0.062322</td>\n",
       "    </tr>\n",
       "  </tbody>\n",
       "</table>\n",
       "<p>1725 rows × 122 columns</p>\n",
       "</div>"
      ],
      "text/plain": [
       "                                              structure  \\\n",
       "0     [[1.39842671 2.40664143 4.37446042] Zr, [3.615...   \n",
       "1     [[1.41037568 2.41800359 4.39765312] Zr, [3.632...   \n",
       "2     [[-8.63451586 -8.02576822 -6.33664411] Zr, [-6...   \n",
       "3     [[ 1.30468543 -7.65082882  3.77109169] Zr, [ 3...   \n",
       "4     [[1.38880269 2.40992106 4.37773968] Zr, [3.657...   \n",
       "...                                                 ...   \n",
       "1720  [[-8.87001828 -5.13740927 -8.87001828] Zr, [-8...   \n",
       "1721  [[  1.25503143 -10.19349096  -3.47224897] Zr, ...   \n",
       "1722  [[ -8.73042916 -10.14298992   2.09308249] Zr, ...   \n",
       "1723  [[-8.87228424  9.95995753 -4.04166983] Zr, [-8...   \n",
       "1724  [[1.2716803  9.96087029 1.28860667] Zr, [1.271...   \n",
       "\n",
       "                                name  Zr-Zr PRDF r=0.00-0.50  \\\n",
       "0        Ag_ZrO2_cat_3.125_222_m.cif                     0.0   \n",
       "1        Ag_ZrO2_cat_3.125_222_o.cif                     0.0   \n",
       "2      Ag_ZrO2_cat_3.125_222_p-o.cif                     0.0   \n",
       "3        Ag_ZrO2_cat_3.125_222_t.cif                     0.0   \n",
       "4         Ag_ZrO2_cat_6.25_122_m.cif                     0.0   \n",
       "...                              ...                     ...   \n",
       "1720    Zr_ZrO2_inter_6.25_212_t.cif                     0.0   \n",
       "1721    Zr_ZrO2_inter_6.25_221_m.cif                     0.0   \n",
       "1722    Zr_ZrO2_inter_6.25_221_o.cif                     0.0   \n",
       "1723  Zr_ZrO2_inter_6.25_221_p-o.cif                     0.0   \n",
       "1724    Zr_ZrO2_inter_6.25_221_t.cif                     0.0   \n",
       "\n",
       "      Zr-Zr PRDF r=0.50-1.00  Zr-Zr PRDF r=1.00-1.50  Zr-Zr PRDF r=1.50-2.00  \\\n",
       "0                        0.0                     0.0                     0.0   \n",
       "1                        0.0                     0.0                     0.0   \n",
       "2                        0.0                     0.0                     0.0   \n",
       "3                        0.0                     0.0                     0.0   \n",
       "4                        0.0                     0.0                     0.0   \n",
       "...                      ...                     ...                     ...   \n",
       "1720                     0.0                     0.0                     0.0   \n",
       "1721                     0.0                     0.0                     0.0   \n",
       "1722                     0.0                     0.0                     0.0   \n",
       "1723                     0.0                     0.0                     0.0   \n",
       "1724                     0.0                     0.0                     0.0   \n",
       "\n",
       "      Zr-Zr PRDF r=2.00-2.50  Zr-Zr PRDF r=2.50-3.00  Zr-Zr PRDF r=3.00-3.50  \\\n",
       "0                        0.0                0.000000                0.088289   \n",
       "1                        0.0                0.000000                0.097991   \n",
       "2                        0.0                0.000000                0.074706   \n",
       "3                        0.0                0.000000                0.001940   \n",
       "4                        0.0                0.000000                0.086219   \n",
       "...                      ...                     ...                     ...   \n",
       "1720                     0.0                0.014815                0.028307   \n",
       "1721                     0.0                0.009876                0.076076   \n",
       "1722                     0.0                0.012346                0.081384   \n",
       "1723                     0.0                0.014815                0.028307   \n",
       "1724                     0.0                0.014815                0.028307   \n",
       "\n",
       "      Zr-Zr PRDF r=3.50-4.00  ...  O-O PRDF r=15.00-15.50  \\\n",
       "0                   0.042287  ...                0.061330   \n",
       "1                   0.041558  ...                0.062549   \n",
       "2                   0.075097  ...                0.066505   \n",
       "3                   0.129779  ...                0.073647   \n",
       "4                   0.040683  ...                0.061586   \n",
       "...                      ...  ...                     ...   \n",
       "1720                0.106362  ...                0.068600   \n",
       "1721                0.041215  ...                0.057951   \n",
       "1722                0.038556  ...                0.057566   \n",
       "1723                0.106362  ...                0.068600   \n",
       "1724                0.106362  ...                0.068600   \n",
       "\n",
       "      O-O PRDF r=15.50-16.00  O-O PRDF r=16.00-16.50  O-O PRDF r=16.50-17.00  \\\n",
       "0                   0.056475                0.061001                0.065090   \n",
       "1                   0.052566                0.065333                0.062023   \n",
       "2                   0.062730                0.059890                0.060126   \n",
       "3                   0.050321                0.072094                0.067465   \n",
       "4                   0.057137                0.061246                0.064274   \n",
       "...                      ...                     ...                     ...   \n",
       "1720                0.045228                0.081662                0.058141   \n",
       "1721                0.050722                0.067311                0.062041   \n",
       "1722                0.054050                0.061284                0.064345   \n",
       "1723                0.045228                0.081662                0.058141   \n",
       "1724                0.045228                0.081662                0.058141   \n",
       "\n",
       "      O-O PRDF r=17.00-17.50  O-O PRDF r=17.50-18.00  O-O PRDF r=18.00-18.50  \\\n",
       "0                   0.051092                0.056937                0.062655   \n",
       "1                   0.050942                0.059967                0.054636   \n",
       "2                   0.060051                0.056573                0.062386   \n",
       "3                   0.044424                0.057647                0.080648   \n",
       "4                   0.052079                0.055563                0.061908   \n",
       "...                      ...                     ...                     ...   \n",
       "1720                0.052948                0.050638                0.077049   \n",
       "1721                0.046797                0.054079                0.056801   \n",
       "1722                0.047767                0.054900                0.056383   \n",
       "1723                0.052948                0.050638                0.077109   \n",
       "1724                0.052948                0.050638                0.077049   \n",
       "\n",
       "      O-O PRDF r=18.50-19.00  O-O PRDF r=19.00-19.50  O-O PRDF r=19.50-20.00  \n",
       "0                   0.069416                0.043605                0.059658  \n",
       "1                   0.067548                0.057549                0.056776  \n",
       "2                   0.065002                0.062582                0.055782  \n",
       "3                   0.057533                0.057308                0.056483  \n",
       "4                   0.070081                0.043672                0.059160  \n",
       "...                      ...                     ...                     ...  \n",
       "1720                0.059527                0.055724                0.062322  \n",
       "1721                0.068213                0.054248                0.047609  \n",
       "1722                0.066686                0.055482                0.052734  \n",
       "1723                0.059527                0.055670                0.062322  \n",
       "1724                0.059527                0.055724                0.062322  \n",
       "\n",
       "[1725 rows x 122 columns]"
      ]
     },
     "execution_count": 3,
     "metadata": {},
     "output_type": "execute_result"
    }
   ],
   "source": [
    "path = pathlib.WindowsPath('C:\\Python\\Projects\\crystal-phase-prediction\\data\\pkl_files\\descriptors\\df_prdf_zro2.pkl')\n",
    "df = pd.read_pickle(path)\n",
    "df"
   ]
  },
  {
   "cell_type": "code",
   "execution_count": 4,
   "metadata": {},
   "outputs": [
    {
     "ename": "FileNotFoundError",
     "evalue": "[Errno 2] No such file or directory: 'C:\\\\Python\\\\Projects\\\\crystal-phase-prediction\\\\crystal_data\\\\data_labels\\\\labels_zro2.pkl'",
     "output_type": "error",
     "traceback": [
      "\u001b[1;31m---------------------------------------------------------------------------\u001b[0m",
      "\u001b[1;31mFileNotFoundError\u001b[0m                         Traceback (most recent call last)",
      "\u001b[1;32m<ipython-input-4-13d07fb0ea13>\u001b[0m in \u001b[0;36m<module>\u001b[1;34m\u001b[0m\n\u001b[1;32m----> 1\u001b[1;33m \u001b[0mlabels_true\u001b[0m \u001b[1;33m=\u001b[0m \u001b[0mpd\u001b[0m\u001b[1;33m.\u001b[0m\u001b[0mread_pickle\u001b[0m\u001b[1;33m(\u001b[0m\u001b[1;34mr'C:\\Python\\Projects\\crystal-phase-prediction\\crystal_data\\data_labels\\labels_zro2.pkl'\u001b[0m\u001b[1;33m)\u001b[0m\u001b[1;33m\u001b[0m\u001b[1;33m\u001b[0m\u001b[0m\n\u001b[0m\u001b[0;32m      2\u001b[0m \u001b[0mlabels_true\u001b[0m \u001b[1;33m=\u001b[0m \u001b[0mlabels_true\u001b[0m\u001b[1;33m.\u001b[0m\u001b[0mlabels_0_4\u001b[0m\u001b[1;33m\u001b[0m\u001b[1;33m\u001b[0m\u001b[0m\n\u001b[0;32m      3\u001b[0m \u001b[0mlabels_true\u001b[0m \u001b[1;33m=\u001b[0m \u001b[0mlabels_true\u001b[0m\u001b[1;33m.\u001b[0m\u001b[0mvalues\u001b[0m\u001b[1;33m\u001b[0m\u001b[1;33m\u001b[0m\u001b[0m\n",
      "\u001b[1;32m~\\anaconda3\\lib\\site-packages\\pandas\\io\\pickle.py\u001b[0m in \u001b[0;36mread_pickle\u001b[1;34m(filepath_or_buffer, compression)\u001b[0m\n\u001b[0;32m    167\u001b[0m     \u001b[1;32mif\u001b[0m \u001b[1;32mnot\u001b[0m \u001b[0misinstance\u001b[0m\u001b[1;33m(\u001b[0m\u001b[0mfp_or_buf\u001b[0m\u001b[1;33m,\u001b[0m \u001b[0mstr\u001b[0m\u001b[1;33m)\u001b[0m \u001b[1;32mand\u001b[0m \u001b[0mcompression\u001b[0m \u001b[1;33m==\u001b[0m \u001b[1;34m\"infer\"\u001b[0m\u001b[1;33m:\u001b[0m\u001b[1;33m\u001b[0m\u001b[1;33m\u001b[0m\u001b[0m\n\u001b[0;32m    168\u001b[0m         \u001b[0mcompression\u001b[0m \u001b[1;33m=\u001b[0m \u001b[1;32mNone\u001b[0m\u001b[1;33m\u001b[0m\u001b[1;33m\u001b[0m\u001b[0m\n\u001b[1;32m--> 169\u001b[1;33m     \u001b[0mf\u001b[0m\u001b[1;33m,\u001b[0m \u001b[0mfh\u001b[0m \u001b[1;33m=\u001b[0m \u001b[0mget_handle\u001b[0m\u001b[1;33m(\u001b[0m\u001b[0mfp_or_buf\u001b[0m\u001b[1;33m,\u001b[0m \u001b[1;34m\"rb\"\u001b[0m\u001b[1;33m,\u001b[0m \u001b[0mcompression\u001b[0m\u001b[1;33m=\u001b[0m\u001b[0mcompression\u001b[0m\u001b[1;33m,\u001b[0m \u001b[0mis_text\u001b[0m\u001b[1;33m=\u001b[0m\u001b[1;32mFalse\u001b[0m\u001b[1;33m)\u001b[0m\u001b[1;33m\u001b[0m\u001b[1;33m\u001b[0m\u001b[0m\n\u001b[0m\u001b[0;32m    170\u001b[0m \u001b[1;33m\u001b[0m\u001b[0m\n\u001b[0;32m    171\u001b[0m     \u001b[1;31m# 1) try standard library Pickle\u001b[0m\u001b[1;33m\u001b[0m\u001b[1;33m\u001b[0m\u001b[1;33m\u001b[0m\u001b[0m\n",
      "\u001b[1;32m~\\anaconda3\\lib\\site-packages\\pandas\\io\\common.py\u001b[0m in \u001b[0;36mget_handle\u001b[1;34m(path_or_buf, mode, encoding, compression, memory_map, is_text, errors)\u001b[0m\n\u001b[0;32m    497\u001b[0m         \u001b[1;32melse\u001b[0m\u001b[1;33m:\u001b[0m\u001b[1;33m\u001b[0m\u001b[1;33m\u001b[0m\u001b[0m\n\u001b[0;32m    498\u001b[0m             \u001b[1;31m# Binary mode\u001b[0m\u001b[1;33m\u001b[0m\u001b[1;33m\u001b[0m\u001b[1;33m\u001b[0m\u001b[0m\n\u001b[1;32m--> 499\u001b[1;33m             \u001b[0mf\u001b[0m \u001b[1;33m=\u001b[0m \u001b[0mopen\u001b[0m\u001b[1;33m(\u001b[0m\u001b[0mpath_or_buf\u001b[0m\u001b[1;33m,\u001b[0m \u001b[0mmode\u001b[0m\u001b[1;33m)\u001b[0m\u001b[1;33m\u001b[0m\u001b[1;33m\u001b[0m\u001b[0m\n\u001b[0m\u001b[0;32m    500\u001b[0m         \u001b[0mhandles\u001b[0m\u001b[1;33m.\u001b[0m\u001b[0mappend\u001b[0m\u001b[1;33m(\u001b[0m\u001b[0mf\u001b[0m\u001b[1;33m)\u001b[0m\u001b[1;33m\u001b[0m\u001b[1;33m\u001b[0m\u001b[0m\n\u001b[0;32m    501\u001b[0m \u001b[1;33m\u001b[0m\u001b[0m\n",
      "\u001b[1;31mFileNotFoundError\u001b[0m: [Errno 2] No such file or directory: 'C:\\\\Python\\\\Projects\\\\crystal-phase-prediction\\\\crystal_data\\\\data_labels\\\\labels_zro2.pkl'"
     ]
    }
   ],
   "source": [
    "labels_true = pd.read_pickle(r'C:\\Python\\Projects\\crystal-phase-prediction\\crystal_data\\data_labels\\labels_zro2.pkl')\n",
    "labels_true = labels_true.labels_0_4\n",
    "labels_true = labels_true.values\n"
   ]
  },
  {
   "cell_type": "code",
   "execution_count": null,
   "metadata": {},
   "outputs": [],
   "source": [
    "X = df.iloc[:,2:]"
   ]
  },
  {
   "cell_type": "code",
   "execution_count": null,
   "metadata": {},
   "outputs": [],
   "source": [
    "scaler = MinMaxScaler()\n",
    "X = scaler.fit_transform(X)\n",
    "X"
   ]
  },
  {
   "cell_type": "code",
   "execution_count": null,
   "metadata": {
    "scrolled": true
   },
   "outputs": [],
   "source": [
    "wcss=[]\n",
    "\n",
    "#we always assume the max number of cluster would be 10\n",
    "#you can judge the number of clusters by doing averaging\n",
    "###Static code to get max no of clusters\n",
    "\n",
    "for i in range(1,11):\n",
    "    kmeans = KMeans(n_clusters= i, init='k-means++', random_state=0)\n",
    "    kmeans.fit(X)\n",
    "    wcss.append(kmeans.inertia_)\n",
    "\n",
    "    #inertia_ is the formula used to segregate the data points into clusters\n",
    "    \n",
    "plt.plot(range(1,11), wcss)\n",
    "plt.title('The Elbow Method')\n",
    "plt.xlabel('no of clusters')\n",
    "plt.ylabel('wcss')\n",
    "plt.show()"
   ]
  },
  {
   "cell_type": "code",
   "execution_count": null,
   "metadata": {},
   "outputs": [],
   "source": [
    "# PCA Testing"
   ]
  },
  {
   "cell_type": "code",
   "execution_count": null,
   "metadata": {
    "scrolled": true
   },
   "outputs": [],
   "source": [
    "mPCA = PCA(n_components=50)\n",
    "PrincipleComponents = mPCA.fit_transform(X)\n",
    "variance = mPCA.explained_variance_ratio_\n",
    "variance_ratio = np.cumsum(np.round(variance, decimals=3)*100)\n",
    "print(variance_ratio)\n",
    "plt.title(\"PCA components VS percentage of variance explained\")\n",
    "plt.ylabel(\"Percentage (%)\")\n",
    "plt.xlabel(\"# of components\")\n",
    "plt.plot(variance_ratio)\n",
    "plt.show()"
   ]
  },
  {
   "cell_type": "code",
   "execution_count": null,
   "metadata": {},
   "outputs": [],
   "source": [
    "comp = 30 # change principal components\n",
    "\n",
    "dfpca = pca_algo(X, comp)\n",
    "dfpca_kmeans = kmeans_algo(dfpca, 5)"
   ]
  },
  {
   "cell_type": "code",
   "execution_count": null,
   "metadata": {},
   "outputs": [],
   "source": [
    "metrics.silhouette_score(dfpca.iloc[:,:-1], dfpca_kmeans['cluster'], metric='l2')"
   ]
  },
  {
   "cell_type": "code",
   "execution_count": null,
   "metadata": {},
   "outputs": [],
   "source": [
    "dfpca_kmeans['labels'] = labels_true"
   ]
  },
  {
   "cell_type": "code",
   "execution_count": null,
   "metadata": {},
   "outputs": [],
   "source": [
    "dfpca_kmeans3 = name_change(dfpca_kmeans)"
   ]
  },
  {
   "cell_type": "code",
   "execution_count": null,
   "metadata": {},
   "outputs": [],
   "source": [
    "plot2d(dfpca_kmeans3, \"2D PCA Predicted Clusters\", 'cluster')"
   ]
  },
  {
   "cell_type": "code",
   "execution_count": null,
   "metadata": {},
   "outputs": [],
   "source": [
    "plot2d(dfpca_kmeans3, \"2D PCA Ground Truth\", 'labels')"
   ]
  },
  {
   "cell_type": "code",
   "execution_count": null,
   "metadata": {},
   "outputs": [],
   "source": [
    "plot3d(dfpca_kmeans3, \"3D PCA Ground Truth\", 'labels')"
   ]
  },
  {
   "cell_type": "code",
   "execution_count": null,
   "metadata": {},
   "outputs": [],
   "source": [
    "plot3d(dfpca_kmeans3, \"3D PCA Prediction\", 'cluster')"
   ]
  },
  {
   "cell_type": "code",
   "execution_count": null,
   "metadata": {},
   "outputs": [],
   "source": [
    "dfpca_kmeans = sort_clusterlabels(dfpca_kmeans)\n",
    "acc = accuracy_score(dfpca_kmeans['labels'], dfpca_kmeans['cluster'])\n",
    "print(acc)"
   ]
  },
  {
   "cell_type": "code",
   "execution_count": null,
   "metadata": {},
   "outputs": [],
   "source": [
    "confusion_matrix(dfpca_kmeans['labels'], dfpca_kmeans['cluster'])"
   ]
  },
  {
   "cell_type": "code",
   "execution_count": null,
   "metadata": {
    "scrolled": true
   },
   "outputs": [],
   "source": [
    "comp = list(range(1, 40 , 1)) # here pca comp\n",
    "hyperparameter_testing(X, 'pca', comp, labels_true)"
   ]
  },
  {
   "cell_type": "code",
   "execution_count": null,
   "metadata": {},
   "outputs": [],
   "source": [
    "# TSNE Testing"
   ]
  },
  {
   "cell_type": "code",
   "execution_count": null,
   "metadata": {},
   "outputs": [],
   "source": [
    "perplex = 20 # change value here\n",
    "\n",
    "dftsne = tsne_algo(X, perplex)\n",
    "dftsne_kmeans = kmeans_algo(dftsne[[0, 1, 2]], n_cluster = 5)"
   ]
  },
  {
   "cell_type": "code",
   "execution_count": null,
   "metadata": {},
   "outputs": [],
   "source": [
    "dftsne_kmeans['labels'] = labels_true"
   ]
  },
  {
   "cell_type": "code",
   "execution_count": null,
   "metadata": {},
   "outputs": [],
   "source": [
    "metrics.silhouette_score(dftsne, dftsne_kmeans['cluster'], metric='l2')"
   ]
  },
  {
   "cell_type": "code",
   "execution_count": null,
   "metadata": {},
   "outputs": [],
   "source": [
    "dftsne_kmeans3 = name_change(dftsne_kmeans)"
   ]
  },
  {
   "cell_type": "code",
   "execution_count": null,
   "metadata": {},
   "outputs": [],
   "source": [
    "plot2d(dftsne_kmeans3,\"2D TSNE Predicted Clusters representation\",'cluster')"
   ]
  },
  {
   "cell_type": "code",
   "execution_count": null,
   "metadata": {},
   "outputs": [],
   "source": [
    "plot2d(dftsne_kmeans3,\"2D TSNE Ground Truth representation\",'labels')"
   ]
  },
  {
   "cell_type": "code",
   "execution_count": null,
   "metadata": {},
   "outputs": [],
   "source": [
    "plot3d(dftsne_kmeans3, 'TSNE 3D Ground Truth', 'labels')"
   ]
  },
  {
   "cell_type": "code",
   "execution_count": null,
   "metadata": {},
   "outputs": [],
   "source": [
    "plot3d(dftsne_kmeans3, 'TSNE 3D Prediction', 'cluster')"
   ]
  },
  {
   "cell_type": "code",
   "execution_count": null,
   "metadata": {},
   "outputs": [],
   "source": [
    "dftsne_kmeans = sort_clusterlabels(dftsne_kmeans)\n",
    "acc = accuracy_score(dftsne_kmeans['labels'], dftsne_kmeans['cluster'])\n",
    "print(acc)"
   ]
  },
  {
   "cell_type": "code",
   "execution_count": null,
   "metadata": {},
   "outputs": [],
   "source": [
    "confusion_matrix(dftsne_kmeans['labels'], dftsne_kmeans['cluster'])"
   ]
  },
  {
   "cell_type": "code",
   "execution_count": null,
   "metadata": {},
   "outputs": [],
   "source": [
    "#Hyperparameter Testing TSNE"
   ]
  },
  {
   "cell_type": "code",
   "execution_count": null,
   "metadata": {},
   "outputs": [],
   "source": [
    "perplexity = list(range(20, 25, 1))\n",
    "hyperparameter_testing(X,'tsne', perplexity, labels_true)"
   ]
  },
  {
   "cell_type": "code",
   "execution_count": null,
   "metadata": {},
   "outputs": [],
   "source": [
    "# NMF Testing "
   ]
  },
  {
   "cell_type": "code",
   "execution_count": null,
   "metadata": {},
   "outputs": [],
   "source": [
    "component = 8\n",
    "W_df = nmf_algo(X, component)\n",
    "W_df_kmeans = kmeans_algo(W_df, 5) # calculate clusterlabels and asign labels to W_df_kmeans "
   ]
  },
  {
   "cell_type": "code",
   "execution_count": null,
   "metadata": {},
   "outputs": [],
   "source": [
    "W_df_kmeans['labels'] = labels_true"
   ]
  },
  {
   "cell_type": "code",
   "execution_count": null,
   "metadata": {},
   "outputs": [],
   "source": [
    "metrics.silhouette_score(W_df.iloc[:,:-1], W_df_kmeans['cluster'], metric='l2')"
   ]
  },
  {
   "cell_type": "code",
   "execution_count": null,
   "metadata": {},
   "outputs": [],
   "source": [
    "# change names for plotly bib\n",
    "W_df_kmeans3 = name_change(W_df_kmeans)"
   ]
  },
  {
   "cell_type": "code",
   "execution_count": null,
   "metadata": {},
   "outputs": [],
   "source": [
    "plot3d(W_df_kmeans3,title='NMF 3D Prediction Kmeans', clus_lab = 'cluster' )"
   ]
  },
  {
   "cell_type": "code",
   "execution_count": null,
   "metadata": {},
   "outputs": [],
   "source": [
    "plot3d(W_df_kmeans3,title='NMF 3D Ground Truth', clus_lab = 'labels' )"
   ]
  },
  {
   "cell_type": "code",
   "execution_count": null,
   "metadata": {},
   "outputs": [],
   "source": [
    "W_df_kmeans = sort_clusterlabels(W_df_kmeans)\n",
    "acc = accuracy_score(W_df_kmeans['labels'], W_df_kmeans['cluster'])\n",
    "print(acc)"
   ]
  },
  {
   "cell_type": "code",
   "execution_count": null,
   "metadata": {},
   "outputs": [],
   "source": [
    "confusion_matrix(W_df_kmeans['labels'], W_df_kmeans['cluster'])"
   ]
  },
  {
   "cell_type": "code",
   "execution_count": null,
   "metadata": {},
   "outputs": [],
   "source": [
    "# Hyperparameter components testing"
   ]
  },
  {
   "cell_type": "code",
   "execution_count": null,
   "metadata": {},
   "outputs": [],
   "source": [
    "components = list(range(2, 10 , 2))\n",
    "hyperparameter_testing(X,'nmf', components, labels_true)"
   ]
  },
  {
   "cell_type": "code",
   "execution_count": null,
   "metadata": {},
   "outputs": [],
   "source": []
  },
  {
   "cell_type": "code",
   "execution_count": null,
   "metadata": {},
   "outputs": [],
   "source": [
    "# Testing Alternative Algorithm Methodes OPTICS/DBSCAN"
   ]
  },
  {
   "cell_type": "code",
   "execution_count": null,
   "metadata": {},
   "outputs": [],
   "source": [
    "component = 8\n",
    "W_df = nmf_algo(X, component)\n",
    "optics = OPTICS(min_samples=60).fit(W_df)\n",
    "W_df['cluster'] = optics.labels_\n",
    "W_df['labels'] = labels_true"
   ]
  },
  {
   "cell_type": "code",
   "execution_count": null,
   "metadata": {},
   "outputs": [],
   "source": [
    "W_df = name_change(W_df)\n",
    "plot3d(W_df, title='optics 3D Prediction', clus_lab = 'cluster')"
   ]
  },
  {
   "cell_type": "code",
   "execution_count": null,
   "metadata": {},
   "outputs": [],
   "source": [
    "min_samples =list(range(20:30))\n",
    "hyperparameter_testing(X,'nmf', min_samples, labels_true)"
   ]
  }
 ],
 "metadata": {
  "kernelspec": {
   "display_name": "Python 3",
   "language": "python",
   "name": "python3"
  },
  "language_info": {
   "codemirror_mode": {
    "name": "ipython",
    "version": 3
   },
   "file_extension": ".py",
   "mimetype": "text/x-python",
   "name": "python",
   "nbconvert_exporter": "python",
   "pygments_lexer": "ipython3",
   "version": "3.8.3"
  }
 },
 "nbformat": 4,
 "nbformat_minor": 4
}
