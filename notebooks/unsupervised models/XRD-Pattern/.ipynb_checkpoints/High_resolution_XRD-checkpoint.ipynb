{
 "cells": [
  {
   "cell_type": "code",
   "execution_count": null,
   "metadata": {},
   "outputs": [],
   "source": [
    "#%matplotlib notebook"
   ]
  },
  {
   "cell_type": "code",
   "execution_count": 1,
   "metadata": {},
   "outputs": [],
   "source": [
    "import pandas as pd\n",
    "import numpy as np\n",
    "import seaborn as sns\n",
    "import matplotlib.pyplot as plt\n",
    "plt.rcParams['figure.figsize'] = [13, 8]\n",
    "import pathlib\n",
    "import plotly.express as px\n",
    "\n",
    "from sklearn.preprocessing import StandardScaler\n",
    "from sklearn.preprocessing import MinMaxScaler\n",
    "from sklearn.metrics import confusion_matrix\n",
    "from sklearn import metrics\n",
    "from sklearn.cluster import KMeans\n",
    "from sklearn.cluster import OPTICS\n",
    "from sklearn.decomposition import PCA\n",
    "from sklearn.metrics import accuracy_score\n",
    "\n",
    "from algorithms import pca_algo, kmeans_algo, nmf_algo, tsne_algo\n",
    "from val_sort import sort_clusterlabels, name_change, plot2d, plot3d, hyperparameter_testing"
   ]
  },
  {
   "cell_type": "code",
   "execution_count": null,
   "metadata": {
    "scrolled": true
   },
   "outputs": [],
   "source": [
    "# pathfile = r'C:\\Python\\Projects\\crystal-phase-prediction\\pkl_files\\structure_df_zro2.pkl' #  structure for hfo2\n",
    "# pathfile = r'C:\\Python\\Projects\\crystal-phase-prediction\\pkl_files\\structure_df_hfo2.pkl' #  structure for hfo2\n",
    "# pathfile = r'C:\\Python\\Projects\\crystal-phase-prediction\\pkl_files\\structure_df_hfo2_deg.pkl # degrees changed\n",
    "\n",
    "path = pathlib.WindowsPath(pathfile)\n",
    "df = pd.read_pickle(path)\n",
    "df"
   ]
  },
  {
   "cell_type": "code",
   "execution_count": null,
   "metadata": {},
   "outputs": [],
   "source": [
    "xrd = XRDPowderPattern(two_theta_range=(5, 65)) #  change for higher range e.g.(0, 180)\n",
    "df = xrd.fit_featurize_dataframe(df, 'structure')\n",
    "df"
   ]
  },
  {
   "cell_type": "code",
   "execution_count": null,
   "metadata": {},
   "outputs": [],
   "source": [
    "labels_true = pd.read_pickle(r'C:\\Python\\Projects\\crystal-phase-prediction\\data\\data_labels\\labels_zro2.pkl')\n",
    "labels_true = labels_true.labels_0_4\n",
    "labels_true = labels_true.values\n"
   ]
  },
  {
   "cell_type": "code",
   "execution_count": null,
   "metadata": {},
   "outputs": [],
   "source": [
    "X = df.iloc[:,2:]"
   ]
  },
  {
   "cell_type": "code",
   "execution_count": null,
   "metadata": {},
   "outputs": [],
   "source": [
    "scaler = MinMaxScaler()\n",
    "X = scaler.fit_transform(X)\n",
    "X"
   ]
  },
  {
   "cell_type": "code",
   "execution_count": null,
   "metadata": {
    "scrolled": true
   },
   "outputs": [],
   "source": [
    "wcss=[]\n",
    "\n",
    "#we always assume the max number of cluster would be 10\n",
    "#you can judge the number of clusters by doing averaging\n",
    "###Static code to get max no of clusters\n",
    "\n",
    "for i in range(1,11):\n",
    "    kmeans = KMeans(n_clusters= i, init='k-means++', random_state=0)\n",
    "    kmeans.fit(X)\n",
    "    wcss.append(kmeans.inertia_)\n",
    "\n",
    "    #inertia_ is the formula used to segregate the data points into clusters\n",
    "    \n",
    "plt.plot(range(1,11), wcss)\n",
    "plt.title('The Elbow Method')\n",
    "plt.xlabel('no of clusters')\n",
    "plt.ylabel('wcss')\n",
    "plt.show()"
   ]
  },
  {
   "cell_type": "code",
   "execution_count": null,
   "metadata": {},
   "outputs": [],
   "source": [
    "# PCA Testing"
   ]
  },
  {
   "cell_type": "code",
   "execution_count": null,
   "metadata": {
    "scrolled": true
   },
   "outputs": [],
   "source": [
    "mPCA = PCA(n_components=50)\n",
    "PrincipleComponents = mPCA.fit_transform(X)\n",
    "variance = mPCA.explained_variance_ratio_\n",
    "variance_ratio = np.cumsum(np.round(variance, decimals=3)*100)\n",
    "print(variance_ratio)\n",
    "plt.title(\"PCA components VS percentage of variance explained\")\n",
    "plt.ylabel(\"Percentage (%)\")\n",
    "plt.xlabel(\"# of components\")\n",
    "plt.plot(variance_ratio)\n",
    "plt.show()"
   ]
  },
  {
   "cell_type": "code",
   "execution_count": null,
   "metadata": {},
   "outputs": [],
   "source": [
    "comp = 30 # change principal components\n",
    "\n",
    "dfpca = pca_algo(X, comp)\n",
    "dfpca_kmeans = kmeans_algo(dfpca, 5)"
   ]
  },
  {
   "cell_type": "code",
   "execution_count": null,
   "metadata": {},
   "outputs": [],
   "source": [
    "metrics.silhouette_score(dfpca.iloc[:,:-1], dfpca_kmeans['cluster'], metric='l2')"
   ]
  },
  {
   "cell_type": "code",
   "execution_count": null,
   "metadata": {},
   "outputs": [],
   "source": [
    "dfpca_kmeans['labels'] = labels_true"
   ]
  },
  {
   "cell_type": "code",
   "execution_count": null,
   "metadata": {},
   "outputs": [],
   "source": [
    "dfpca_kmeans3 = name_change(dfpca_kmeans)"
   ]
  },
  {
   "cell_type": "code",
   "execution_count": null,
   "metadata": {},
   "outputs": [],
   "source": [
    "plot2d(dfpca_kmeans3, \"2D PCA Predicted Clusters\", 'cluster')"
   ]
  },
  {
   "cell_type": "code",
   "execution_count": null,
   "metadata": {},
   "outputs": [],
   "source": [
    "plot2d(dfpca_kmeans3, \"2D PCA Ground Truth\", 'labels')"
   ]
  },
  {
   "cell_type": "code",
   "execution_count": null,
   "metadata": {},
   "outputs": [],
   "source": [
    "plot3d(dfpca_kmeans3, \"3D PCA Ground Truth\", 'labels')"
   ]
  },
  {
   "cell_type": "code",
   "execution_count": null,
   "metadata": {},
   "outputs": [],
   "source": [
    "plot3d(dfpca_kmeans3, \"3D PCA Prediction\", 'cluster')"
   ]
  },
  {
   "cell_type": "code",
   "execution_count": null,
   "metadata": {},
   "outputs": [],
   "source": [
    "dfpca_kmeans = sort_clusterlabels(dfpca_kmeans)\n",
    "acc = accuracy_score(dfpca_kmeans['labels'], dfpca_kmeans['cluster'])\n",
    "print(acc)"
   ]
  },
  {
   "cell_type": "code",
   "execution_count": null,
   "metadata": {},
   "outputs": [],
   "source": [
    "confusion_matrix(dfpca_kmeans['labels'], dfpca_kmeans['cluster'])"
   ]
  },
  {
   "cell_type": "code",
   "execution_count": null,
   "metadata": {
    "scrolled": true
   },
   "outputs": [],
   "source": [
    "comp = list(range(1, 40 , 1)) # here pca comp\n",
    "hyperparameter_testing(X, 'pca', comp, labels_true)"
   ]
  },
  {
   "cell_type": "code",
   "execution_count": null,
   "metadata": {},
   "outputs": [],
   "source": [
    "# TSNE Testing"
   ]
  },
  {
   "cell_type": "code",
   "execution_count": null,
   "metadata": {},
   "outputs": [],
   "source": [
    "perplex = 20 # change value here\n",
    "\n",
    "dftsne = tsne_algo(X, perplex)\n",
    "dftsne_kmeans = kmeans_algo(dftsne[[0, 1, 2]], n_cluster = 5)"
   ]
  },
  {
   "cell_type": "code",
   "execution_count": null,
   "metadata": {},
   "outputs": [],
   "source": [
    "dftsne_kmeans['labels'] = labels_true"
   ]
  },
  {
   "cell_type": "code",
   "execution_count": null,
   "metadata": {},
   "outputs": [],
   "source": [
    "metrics.silhouette_score(dftsne, dftsne_kmeans['cluster'], metric='l2')"
   ]
  },
  {
   "cell_type": "code",
   "execution_count": null,
   "metadata": {},
   "outputs": [],
   "source": [
    "dftsne_kmeans3 = name_change(dftsne_kmeans)"
   ]
  },
  {
   "cell_type": "code",
   "execution_count": null,
   "metadata": {},
   "outputs": [],
   "source": [
    "plot2d(dftsne_kmeans3,\"2D TSNE Predicted Clusters representation\",'cluster')"
   ]
  },
  {
   "cell_type": "code",
   "execution_count": null,
   "metadata": {},
   "outputs": [],
   "source": [
    "plot2d(dftsne_kmeans3,\"2D TSNE Ground Truth representation\",'labels')"
   ]
  },
  {
   "cell_type": "code",
   "execution_count": null,
   "metadata": {},
   "outputs": [],
   "source": [
    "plot3d(dftsne_kmeans3, 'TSNE 3D Ground Truth', 'labels')"
   ]
  },
  {
   "cell_type": "code",
   "execution_count": null,
   "metadata": {},
   "outputs": [],
   "source": [
    "plot3d(dftsne_kmeans3, 'TSNE 3D Prediction', 'cluster')"
   ]
  },
  {
   "cell_type": "code",
   "execution_count": null,
   "metadata": {},
   "outputs": [],
   "source": [
    "dftsne_kmeans = sort_clusterlabels(dftsne_kmeans)\n",
    "acc = accuracy_score(dftsne_kmeans['labels'], dftsne_kmeans['cluster'])\n",
    "print(acc)"
   ]
  },
  {
   "cell_type": "code",
   "execution_count": null,
   "metadata": {},
   "outputs": [],
   "source": [
    "confusion_matrix(dftsne_kmeans['labels'], dftsne_kmeans['cluster'])"
   ]
  },
  {
   "cell_type": "code",
   "execution_count": null,
   "metadata": {},
   "outputs": [],
   "source": [
    "#Hyperparameter Testing TSNE"
   ]
  },
  {
   "cell_type": "code",
   "execution_count": null,
   "metadata": {},
   "outputs": [],
   "source": [
    "perplexity = list(range(20, 25, 1))\n",
    "hyperparameter_testing(X,'tsne', perplexity, labels_true)"
   ]
  },
  {
   "cell_type": "code",
   "execution_count": null,
   "metadata": {},
   "outputs": [],
   "source": [
    "# NMF Testing "
   ]
  },
  {
   "cell_type": "code",
   "execution_count": null,
   "metadata": {},
   "outputs": [],
   "source": [
    "component = 8\n",
    "W_df = nmf_algo(X, component)\n",
    "W_df_kmeans = kmeans_algo(W_df, 5) # calculate clusterlabels and asign labels to W_df_kmeans "
   ]
  },
  {
   "cell_type": "code",
   "execution_count": null,
   "metadata": {},
   "outputs": [],
   "source": [
    "W_df_kmeans['labels'] = labels_true"
   ]
  },
  {
   "cell_type": "code",
   "execution_count": null,
   "metadata": {},
   "outputs": [],
   "source": [
    "metrics.silhouette_score(W_df.iloc[:,:-1], W_df_kmeans['cluster'], metric='l2')"
   ]
  },
  {
   "cell_type": "code",
   "execution_count": null,
   "metadata": {},
   "outputs": [],
   "source": [
    "# change names for plotly bib\n",
    "W_df_kmeans3 = name_change(W_df_kmeans)"
   ]
  },
  {
   "cell_type": "code",
   "execution_count": null,
   "metadata": {},
   "outputs": [],
   "source": [
    "plot3d(W_df_kmeans3,title='NMF 3D Prediction Kmeans', clus_lab = 'cluster' )"
   ]
  },
  {
   "cell_type": "code",
   "execution_count": null,
   "metadata": {},
   "outputs": [],
   "source": [
    "plot3d(W_df_kmeans3,title='NMF 3D Ground Truth', clus_lab = 'labels' )"
   ]
  },
  {
   "cell_type": "code",
   "execution_count": null,
   "metadata": {},
   "outputs": [],
   "source": [
    "W_df_kmeans = sort_clusterlabels(W_df_kmeans)\n",
    "acc = accuracy_score(W_df_kmeans['labels'], W_df_kmeans['cluster'])\n",
    "print(acc)"
   ]
  },
  {
   "cell_type": "code",
   "execution_count": null,
   "metadata": {},
   "outputs": [],
   "source": [
    "confusion_matrix(W_df_kmeans['labels'], W_df_kmeans['cluster'])"
   ]
  },
  {
   "cell_type": "code",
   "execution_count": null,
   "metadata": {},
   "outputs": [],
   "source": [
    "# Hyperparameter components testing"
   ]
  },
  {
   "cell_type": "code",
   "execution_count": null,
   "metadata": {},
   "outputs": [],
   "source": [
    "components = list(range(2, 10 , 2))\n",
    "hyperparameter_testing(X,'nmf', components, labels_true)"
   ]
  },
  {
   "cell_type": "code",
   "execution_count": null,
   "metadata": {},
   "outputs": [],
   "source": []
  },
  {
   "cell_type": "code",
   "execution_count": null,
   "metadata": {},
   "outputs": [],
   "source": [
    "# Testing Alternative Algorithm Methodes OPTICS/DBSCAN"
   ]
  },
  {
   "cell_type": "code",
   "execution_count": null,
   "metadata": {},
   "outputs": [],
   "source": [
    "component = 8\n",
    "W_df = nmf_algo(X, component)\n",
    "optics = OPTICS(min_samples=60).fit(W_df)\n",
    "W_df['cluster'] = optics.labels_\n",
    "W_df['labels'] = labels_true"
   ]
  },
  {
   "cell_type": "code",
   "execution_count": null,
   "metadata": {},
   "outputs": [],
   "source": [
    "W_df = name_change(W_df)\n",
    "plot3d(W_df, title='optics 3D Prediction', clus_lab = 'cluster')"
   ]
  },
  {
   "cell_type": "code",
   "execution_count": null,
   "metadata": {},
   "outputs": [],
   "source": [
    "min_samples =list(range(20:30))\n",
    "hyperparameter_testing(X,'nmf', min_samples, labels_true)"
   ]
  }
 ],
 "metadata": {
  "kernelspec": {
   "display_name": "Python 3",
   "language": "python",
   "name": "python3"
  },
  "language_info": {
   "codemirror_mode": {
    "name": "ipython",
    "version": 3
   },
   "file_extension": ".py",
   "mimetype": "text/x-python",
   "name": "python",
   "nbconvert_exporter": "python",
   "pygments_lexer": "ipython3",
   "version": "3.8.3"
  }
 },
 "nbformat": 4,
 "nbformat_minor": 4
}
