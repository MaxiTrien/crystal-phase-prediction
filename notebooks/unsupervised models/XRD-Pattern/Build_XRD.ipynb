{
 "cells": [
  {
   "cell_type": "code",
   "execution_count": null,
   "metadata": {},
   "outputs": [],
   "source": [
    "import pandas as pd\n",
    "import numpy as np\n",
    "import pathlib\n",
    "from matminer.featurizers.structure import XRDPowderPattern"
   ]
  },
  {
   "cell_type": "code",
   "execution_count": null,
   "metadata": {},
   "outputs": [],
   "source": [
    "# Select from the following choose of data\n",
    "#\n",
    "# structure_df_all.pkl # hfo2 and zro2 \n",
    "# structure_df_hfo2.pkl\n",
    "# structure_df_zro2.pkl\n",
    "# more...\n",
    "#"
   ]
  },
  {
   "cell_type": "code",
   "execution_count": null,
   "metadata": {},
   "outputs": [],
   "source": [
    "# pathfile = r'C:\\Python\\Projects\\crystal-phase-prediction\\data\\pkl_files\\structures\\structure_df_zro2.pkl' #  structure for hfo2\n",
    "# pathfile = r'C:\\Python\\Projects\\crystal-phase-prediction\\data\\pkl_files\\structures\\structure_df_hfo2.pkl' #  structure for hfo2\n",
    "# pathfile = r'C:\\Python\\Projects\\crystal-phase-prediction\\data\\pkl_files\\structures\\structure_df_hfo2_deg.pkl' # degrees changed\n",
    "pathfile = r'C:\\Python\\Projects\\crystal-phase-prediction\\data\\pkl_files\\structures\\structure_df_hfo2_La_defects_po.pkl'\n",
    "\n",
    "path = pathlib.WindowsPath(pathfile)\n",
    "df = pd.read_pickle(path)\n",
    "df"
   ]
  },
  {
   "cell_type": "code",
   "execution_count": null,
   "metadata": {},
   "outputs": [],
   "source": [
    "xrd = XRDPowderPattern(two_theta_range=(5, 65))\n",
    "df = xrd.fit_featurize_dataframe(df, 'structure')"
   ]
  },
  {
   "cell_type": "code",
   "execution_count": null,
   "metadata": {},
   "outputs": [],
   "source": [
    "df = df.drop(columns = 'labels')\n",
    "df"
   ]
  },
  {
   "cell_type": "code",
   "execution_count": null,
   "metadata": {},
   "outputs": [],
   "source": [
    "pd.to_pickle(df, r'C:\\Python\\Projects\\crystal-phase-prediction\\data\\pkl_files\\descriptors\\xrd_La_defects5_65_po.pkl')"
   ]
  },
  {
   "cell_type": "code",
   "execution_count": null,
   "metadata": {},
   "outputs": [],
   "source": []
  }
 ],
 "metadata": {
  "kernelspec": {
   "display_name": "Python 3",
   "language": "python",
   "name": "python3"
  },
  "language_info": {
   "codemirror_mode": {
    "name": "ipython",
    "version": 3
   },
   "file_extension": ".py",
   "mimetype": "text/x-python",
   "name": "python",
   "nbconvert_exporter": "python",
   "pygments_lexer": "ipython3",
   "version": "3.8.3"
  }
 },
 "nbformat": 4,
 "nbformat_minor": 4
}
