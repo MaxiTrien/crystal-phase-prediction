{
 "cells": [
  {
   "cell_type": "code",
   "execution_count": 29,
   "metadata": {},
   "outputs": [],
   "source": [
    "import pandas as pd\n",
    "import numpy as np\n",
    "import pathlib\n",
    "from matminer.featurizers.structure import XRDPowderPattern"
   ]
  },
  {
   "cell_type": "code",
   "execution_count": 30,
   "metadata": {},
   "outputs": [],
   "source": [
    "# Select from the following choose of data\n",
    "#\n",
    "# structure_df_all.pkl # hfo2 and zro2 \n",
    "# structure_df_hfo2.pkl\n",
    "# structure_df_zro2.pkl\n",
    "# more...\n",
    "#"
   ]
  },
  {
   "cell_type": "code",
   "execution_count": 42,
   "metadata": {},
   "outputs": [
    {
     "data": {
      "text/html": [
       "<div>\n",
       "<style scoped>\n",
       "    .dataframe tbody tr th:only-of-type {\n",
       "        vertical-align: middle;\n",
       "    }\n",
       "\n",
       "    .dataframe tbody tr th {\n",
       "        vertical-align: top;\n",
       "    }\n",
       "\n",
       "    .dataframe thead th {\n",
       "        text-align: right;\n",
       "    }\n",
       "</style>\n",
       "<table border=\"1\" class=\"dataframe\">\n",
       "  <thead>\n",
       "    <tr style=\"text-align: right;\">\n",
       "      <th></th>\n",
       "      <th>structure</th>\n",
       "      <th>name</th>\n",
       "    </tr>\n",
       "  </thead>\n",
       "  <tbody>\n",
       "    <tr>\n",
       "      <th>0</th>\n",
       "      <td>[[ 1.43364347 -5.05458306  1.7612222 ] Hf, [ 1...</td>\n",
       "      <td>Hf14La2O32_sc122_No14_1.cif</td>\n",
       "    </tr>\n",
       "    <tr>\n",
       "      <th>1</th>\n",
       "      <td>[[-3.63321709  0.12925241 -9.6815268 ] La, [-1...</td>\n",
       "      <td>Hf14La2O32_sc122_No14_10.cif</td>\n",
       "    </tr>\n",
       "    <tr>\n",
       "      <th>2</th>\n",
       "      <td>[[-3.73360452  0.13446417 -9.63545356] La, [-1...</td>\n",
       "      <td>Hf14La2O32_sc122_No14_11.cif</td>\n",
       "    </tr>\n",
       "    <tr>\n",
       "      <th>3</th>\n",
       "      <td>[[-3.64748426  0.22497602 -4.26243513] Hf, [-3...</td>\n",
       "      <td>Hf14La2O32_sc122_No14_2.cif</td>\n",
       "    </tr>\n",
       "    <tr>\n",
       "      <th>4</th>\n",
       "      <td>[[1.41818387 0.19806804 7.03567622] Hf, [1.419...</td>\n",
       "      <td>Hf14La2O32_sc122_No14_3.cif</td>\n",
       "    </tr>\n",
       "    <tr>\n",
       "      <th>...</th>\n",
       "      <td>...</td>\n",
       "      <td>...</td>\n",
       "    </tr>\n",
       "    <tr>\n",
       "      <th>104</th>\n",
       "      <td>[[3.60419766 2.64602632 1.82503961] La, [ 3.66...</td>\n",
       "      <td>Hf30La2O63_sc222_No14_9.cif</td>\n",
       "    </tr>\n",
       "    <tr>\n",
       "      <th>105</th>\n",
       "      <td>[[-5.19078639  2.52186112 -8.74118441] La, [ -...</td>\n",
       "      <td>La_HfO2_inter_3.125_222_m.cif</td>\n",
       "    </tr>\n",
       "    <tr>\n",
       "      <th>106</th>\n",
       "      <td>[[-0.07300294  2.58948902 -8.00033005] La, [-3...</td>\n",
       "      <td>La_HfO2_inter_6.25_122_m.cif</td>\n",
       "    </tr>\n",
       "    <tr>\n",
       "      <th>107</th>\n",
       "      <td>[[ 4.99292181 -2.5924109   3.70489325] La, [ 1...</td>\n",
       "      <td>La_HfO2_inter_6.25_212_m.cif</td>\n",
       "    </tr>\n",
       "    <tr>\n",
       "      <th>108</th>\n",
       "      <td>[[-5.17180394  2.61804914 -3.56442079] La, [-8...</td>\n",
       "      <td>La_HfO2_inter_6.25_221_m.cif</td>\n",
       "    </tr>\n",
       "  </tbody>\n",
       "</table>\n",
       "<p>109 rows × 2 columns</p>\n",
       "</div>"
      ],
      "text/plain": [
       "                                             structure  \\\n",
       "0    [[ 1.43364347 -5.05458306  1.7612222 ] Hf, [ 1...   \n",
       "1    [[-3.63321709  0.12925241 -9.6815268 ] La, [-1...   \n",
       "2    [[-3.73360452  0.13446417 -9.63545356] La, [-1...   \n",
       "3    [[-3.64748426  0.22497602 -4.26243513] Hf, [-3...   \n",
       "4    [[1.41818387 0.19806804 7.03567622] Hf, [1.419...   \n",
       "..                                                 ...   \n",
       "104  [[3.60419766 2.64602632 1.82503961] La, [ 3.66...   \n",
       "105  [[-5.19078639  2.52186112 -8.74118441] La, [ -...   \n",
       "106  [[-0.07300294  2.58948902 -8.00033005] La, [-3...   \n",
       "107  [[ 4.99292181 -2.5924109   3.70489325] La, [ 1...   \n",
       "108  [[-5.17180394  2.61804914 -3.56442079] La, [-8...   \n",
       "\n",
       "                              name  \n",
       "0      Hf14La2O32_sc122_No14_1.cif  \n",
       "1     Hf14La2O32_sc122_No14_10.cif  \n",
       "2     Hf14La2O32_sc122_No14_11.cif  \n",
       "3      Hf14La2O32_sc122_No14_2.cif  \n",
       "4      Hf14La2O32_sc122_No14_3.cif  \n",
       "..                             ...  \n",
       "104    Hf30La2O63_sc222_No14_9.cif  \n",
       "105  La_HfO2_inter_3.125_222_m.cif  \n",
       "106   La_HfO2_inter_6.25_122_m.cif  \n",
       "107   La_HfO2_inter_6.25_212_m.cif  \n",
       "108   La_HfO2_inter_6.25_221_m.cif  \n",
       "\n",
       "[109 rows x 2 columns]"
      ]
     },
     "execution_count": 42,
     "metadata": {},
     "output_type": "execute_result"
    }
   ],
   "source": [
    "# pathfile = r'C:\\Python\\Projects\\crystal-phase-prediction\\data\\pkl_files\\structures\\structure_df_zro2.pkl' #  structure for hfo2\n",
    "# pathfile = r'C:\\Python\\Projects\\crystal-phase-prediction\\data\\pkl_files\\structures\\structure_df_hfo2.pkl' #  structure for hfo2\n",
    "# pathfile = r'C:\\Python\\Projects\\crystal-phase-prediction\\data\\pkl_files\\structures\\structure_df_hfo2_deg.pkl' # degrees changed\n",
    "pathfile = r'C:\\Python\\Projects\\crystal-phase-prediction\\data\\pkl_files\\structures\\structure_df_hfo2_La_del_defects_m.pkl'\n",
    "\n",
    "path = pathlib.WindowsPath(pathfile)\n",
    "df = pd.read_pickle(path)\n",
    "df"
   ]
  },
  {
   "cell_type": "code",
   "execution_count": 43,
   "metadata": {},
   "outputs": [
    {
     "data": {
      "application/vnd.jupyter.widget-view+json": {
       "model_id": "7009ed4ffc29468ab7773d699242affd",
       "version_major": 2,
       "version_minor": 0
      },
      "text/plain": [
       "HBox(children=(FloatProgress(value=0.0, description='XRDPowderPattern', max=109.0, style=ProgressStyle(descrip…"
      ]
     },
     "metadata": {},
     "output_type": "display_data"
    },
    {
     "name": "stdout",
     "output_type": "stream",
     "text": [
      "\n"
     ]
    }
   ],
   "source": [
    "xrd = XRDPowderPattern(two_theta_range=(5, 65))\n",
    "df = xrd.fit_featurize_dataframe(df, 'structure')"
   ]
  },
  {
   "cell_type": "code",
   "execution_count": 44,
   "metadata": {},
   "outputs": [],
   "source": [
    "pd.to_pickle(df, r'C:\\Python\\Projects\\crystal-phase-prediction\\data\\pkl_files\\descriptors\\xrd_La_del_defects5_65_m.pkl')"
   ]
  },
  {
   "cell_type": "code",
   "execution_count": null,
   "metadata": {},
   "outputs": [],
   "source": []
  }
 ],
 "metadata": {
  "kernelspec": {
   "display_name": "Python 3",
   "language": "python",
   "name": "python3"
  },
  "language_info": {
   "codemirror_mode": {
    "name": "ipython",
    "version": 3
   },
   "file_extension": ".py",
   "mimetype": "text/x-python",
   "name": "python",
   "nbconvert_exporter": "python",
   "pygments_lexer": "ipython3",
   "version": "3.8.3"
  }
 },
 "nbformat": 4,
 "nbformat_minor": 4
}
